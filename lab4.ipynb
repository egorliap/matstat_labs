{
 "cells": [
  {
   "cell_type": "markdown",
   "id": "ed1987ce",
   "metadata": {},
   "source": [
    "## Лабораторная работа по мат. статистике №4\n",
    "Проверка статистических гипотез"
   ]
  },
  {
   "cell_type": "code",
   "execution_count": null,
   "id": "4413d0a8",
   "metadata": {},
   "outputs": [],
   "source": [
    "import numpy as np\n",
    "import matplotlib.pyplot as plt\n",
    "from scipy import stats\n",
    "from IPython.display import display, Latex\n",
    "\n",
    "n = 500  # amount of samples\n",
    "alpha = 0.05\n",
    "\n",
    "\n",
    "def print_if_in(val: np.float64, lbound: np.float64, rbound: np.float64):\n",
    "    tex = str(val) + (\n",
    "        \"\\\\in\" if lbound <= val <= rbound else \"\\\\notin\") + f\"({lbound}; {rbound})\"\n",
    "    \n",
    "    display(Latex(f\"${tex}$\"))\n",
    "    if lbound <= val <= rbound:\n",
    "        return True\n",
    "    else:\n",
    "        return False"
   ]
  },
  {
   "cell_type": "markdown",
   "id": "8aacb6d9",
   "metadata": {},
   "source": [
    "### 1. Критерий согласия\n",
    "$H_0 = \\{\\hat{\\rho} = 0\\}$"
   ]
  },
  {
   "cell_type": "code",
   "execution_count": null,
   "id": "d2d23965",
   "metadata": {},
   "outputs": [],
   "source": [
    "x = np.random.normal(2, 4, n)"
   ]
  },
  {
   "cell_type": "code",
   "execution_count": null,
   "id": "bf996139",
   "metadata": {},
   "outputs": [],
   "source": [
    "x1 = x[: len(x) // 2]\n",
    "x2 = x[len(x) // 2 :]\n",
    "\n",
    "p = stats.pearsonr(x1, x2).statistic\n",
    "t = p / np.sqrt(1 - np.pow(p, 2)) * np.sqrt(n/2 - 2)\n",
    "t_true_left = stats.t.ppf(alpha / 2, df=n / 2 - 2)\n",
    "t_true_right = -t_true_left\n",
    "isn_cor = print_if_in(t, t_true_left, t_true_right)\n",
    "if isn_cor:\n",
    "    print(\"x1 and x2 are not correlated, H0 approved\")\n",
    "else:\n",
    "    print(\"x1 and x2 are correlated, H0 disapproved\")\n",
    "    \n",
    "display(Latex(f\"$\\\\hat{{p}} = {p}$\"))\n",
    "plt.scatter(x1,x2)\n",
    "plt.show()"
   ]
  },
  {
   "cell_type": "code",
   "execution_count": null,
   "id": "333e0a85",
   "metadata": {},
   "outputs": [],
   "source": [
    "\n",
    "x1 = x\n",
    "x2 = 4*x + 3 + np.random.standard_normal(n)\n",
    "p = stats.pearsonr(x1, x2).statistic\n",
    "t = (p / np.sqrt(1 - np.pow(p, 2))) * np.sqrt(n - 2)\n",
    "t_true_left = stats.t.ppf(alpha/ 2, df=n - 2)\n",
    "t_true_right = -t_true_left\n",
    "isn_cor = print_if_in(t, t_true_left, t_true_right)\n",
    "if isn_cor:\n",
    "    print(\"x1 and x2 are not correlated, H0 approved\")\n",
    "else:\n",
    "    print(\"x1 and x2 are correlated, H0 disapproved\")\n",
    "display(Latex(f\"$\\\\hat{{p}} = {p}$\"))\n",
    "plt.scatter(x1,x2)\n",
    "plt.show()\n"
   ]
  },
  {
   "cell_type": "markdown",
   "id": "0a85a816",
   "metadata": {},
   "source": [
    "### 2. Критерий однородности"
   ]
  },
  {
   "cell_type": "markdown",
   "id": "efe0baa5",
   "metadata": {},
   "source": [
    "2.1 $H_0 = \\{\\mu_x = \\mu_y\\}$"
   ]
  },
  {
   "cell_type": "code",
   "execution_count": null,
   "id": "80bd4336",
   "metadata": {},
   "outputs": [],
   "source": [
    "x1 = np.random.normal(2, 4, n)\n",
    "x2 = np.random.normal(2.5, 6, n)\n",
    "\n",
    "z = x1 - x2\n",
    "\n",
    "t = z.mean() / (np.sqrt(z.var() * (n / (n - 1))) / np.sqrt(n))\n",
    "t_true_left = stats.t.ppf(alpha / 2, df=n - 1)\n",
    "t_true_right = -t_true_left\n",
    "eq = print_if_in(\n",
    "    t,\n",
    "    z.mean() + t_true_left * (np.sqrt(z.var() * (n / (n - 1))) / np.sqrt(n-1)),\n",
    "    z.mean() + t_true_right * (np.sqrt(z.var() * (n / (n - 1))) / np.sqrt(n-1)),\n",
    ")\n",
    "if not eq:\n",
    "    print(\"Mx != My, H0 disapproved\")\n",
    "else:\n",
    "    print(\"Mx == My, H0 approved\")"
   ]
  },
  {
   "cell_type": "code",
   "execution_count": null,
   "id": "65d70b2b",
   "metadata": {},
   "outputs": [],
   "source": [
    "n1 = n + 100\n",
    "\n",
    "x = np.random.normal(2, 4, n1)\n",
    "x1 = x[: n1 // 3]\n",
    "x2 = x[n1 // 3 :]\n",
    "n2 = n1 - n1 // 3\n",
    "\n",
    "n1 = n1 // 3\n",
    "s_ = np.sqrt((x1.var() * n1 + x2.var() * n2) / (n1 + n2 - 2))\n",
    "t = (x1.mean() - x2.mean()) / (s_ * np.sqrt(1 / n1 + 1 / n2))\n",
    "t_true_left = stats.t.ppf(alpha / 2, df=n1 + n2 - 2)\n",
    "t_true_right = -t_true_left\n",
    "eq = print_if_in(\n",
    "    t,\n",
    "    t_true_left,\n",
    "    t_true_right,\n",
    ")\n",
    "if not eq:\n",
    "    print(\"Mx != My, H0 disapproved\")\n",
    "else:\n",
    "    print(\"Mx == My, H0 approved\")"
   ]
  },
  {
   "cell_type": "code",
   "execution_count": null,
   "id": "c04ce4e6",
   "metadata": {},
   "outputs": [],
   "source": [
    "n1 = n + 100\n",
    "n2 = n\n",
    "x1 = np.random.normal(2, 4, n1)\n",
    "x2 = np.random.normal(2.5, 6, n2)\n",
    "s_ = np.sqrt((x1.var() * n1 + x2.var() * n2) / (n1 + n2 - 2))\n",
    "t = (x1.mean() - x2.mean()) / (s_ * np.sqrt(1 / n1 + 1 / n2))\n",
    "t_true_left = stats.t.ppf(alpha / 2, df=n1 + n2 - 2)\n",
    "t_true_right = -t_true_left\n",
    "eq = print_if_in(\n",
    "    t,\n",
    "    t_true_left,\n",
    "    t_true_right,\n",
    ")\n",
    "if not eq:\n",
    "    print(\"Mx != My, H0 disapproved\")\n",
    "else:\n",
    "    print(\"Mx == My, H0 approved\")"
   ]
  },
  {
   "cell_type": "markdown",
   "id": "1815be8a",
   "metadata": {},
   "source": [
    "2.2 $H_0 = \\{\\sigma_x = \\sigma_y\\}$"
   ]
  },
  {
   "cell_type": "code",
   "execution_count": null,
   "id": "c62beeb1",
   "metadata": {},
   "outputs": [],
   "source": [
    "n1 = n + 100\n",
    "n2 = n\n",
    "x = np.random.normal(2, 4, n1)\n",
    "x1 = x[:2*len(x)//6]\n",
    "x2 = x[2*len(x)//6:]\n",
    "n1 = 2*len(x)//6\n",
    "n2 = 4*len(x)//6\n",
    "s1 = x1.var()*n1/(n1-1)\n",
    "s2 = x2.var()*n2/(n2-1)\n",
    "f = min(s1,s2)/max(s1,s2)\n",
    "f_true_left = -stats.f.ppf(alpha/2, dfn=n1-1 if min(s1,s2) == s1 else n2-1, dfd=n2-1 if min(s1,s2) == s1 else n1-1)\n",
    "f_true_right = -f_true_left\n",
    "\n",
    "eq = print_if_in(\n",
    "    f,\n",
    "    f_true_left,\n",
    "    f_true_right,\n",
    ")\n",
    "if eq:\n",
    "    print(\"Dx != Dy, H0 disapproved\")\n",
    "else:\n",
    "    print(\"Dx == Dy, H0 approved\")"
   ]
  },
  {
   "cell_type": "code",
   "execution_count": null,
   "id": "95b62e3e",
   "metadata": {},
   "outputs": [],
   "source": [
    "n1 = n + 100\n",
    "n2 = n\n",
    "x1 = np.random.normal(2, 4, n1)\n",
    "x2 = np.random.normal(2.5, 6, n2)\n",
    "s1 = x1.var() * n1 / (n1 - 1)\n",
    "s2 = x2.var() * n2 / (n2 - 1)\n",
    "f = min(s1, s2) / max(s1, s2)\n",
    "f_true_left = -stats.f.ppf(\n",
    "    alpha / 2,\n",
    "    dfn=n1 - 1 if min(s1, s2) == s1 else n2 - 1,\n",
    "    dfd=n2 - 1 if min(s1, s2) == s1 else n1 - 1,\n",
    ")\n",
    "f_true_right = -f_true_left\n",
    "\n",
    "eq = print_if_in(\n",
    "    f,\n",
    "    f_true_left,\n",
    "    f_true_right,\n",
    ")\n",
    "if eq:\n",
    "    print(\"Dx != Dy, H0 disapproved\")\n",
    "else:\n",
    "    print(\"Dx == Dy, H0 approved\")"
   ]
  },
  {
   "cell_type": "markdown",
   "id": "894dd910",
   "metadata": {},
   "source": [
    "2.3 Для биномиального распределения"
   ]
  },
  {
   "cell_type": "code",
   "execution_count": null,
   "id": "6b12305f",
   "metadata": {},
   "outputs": [],
   "source": [
    "n1 = n + 100\n",
    "n2 = n\n",
    "x = np.random.binomial(1, 0.3, n1)\n",
    "x1 = x[:2*n1//6]\n",
    "x2 = x[2*n1//6:]\n",
    "n2 = 4*n1//6\n",
    "n1 = 2*n1//6\n",
    "\n",
    "m1 = np.sum(x1)\n",
    "m2 = np.sum(x2)\n",
    "\n",
    "p1 = m1 / n1\n",
    "p2 = m2 / n2\n",
    "p = (m1 + m2) / (n1 + n2)\n",
    "\n",
    "t = (p1 - p2 - 1 / (2 * (n1 - n2))) / np.sqrt(p * (1 - p) * (1 / n1 + 1 / n2))\n",
    "\n",
    "t_true_left = stats.t.ppf(alpha/2, df=n1+n2-1)\n",
    "t_true_right = -t_true_left\n",
    "eq = print_if_in(\n",
    "    t,\n",
    "    t_true_left,\n",
    "    t_true_right,\n",
    ")\n",
    "if not eq:\n",
    "    print(\"p1 != p2, H0 disapproved\")\n",
    "else:\n",
    "    print(\"p1 == p2, H0 approved\")\n",
    "display(Latex(f\"$\\\\hat{{p_1}} = {p1}$\"))\n",
    "display(Latex(f\"$\\\\hat{{p_2}} = {p2}$\"))"
   ]
  },
  {
   "cell_type": "code",
   "execution_count": null,
   "id": "2e823ef4",
   "metadata": {},
   "outputs": [],
   "source": [
    "n1 = n + 100\n",
    "n2 = n\n",
    "x1 = np.random.binomial(1, 0.3, n1)\n",
    "x2 = np.random.binomial(1, 0.4, n2)\n",
    "\n",
    "m1 = np.sum(x1)\n",
    "m2 = np.sum(x2)\n",
    "\n",
    "p1 = m1 / n1\n",
    "p2 = m2 / n2\n",
    "p = (m1 + m2) / (n1 + n2)\n",
    "\n",
    "t = (p1 - p2 - 1 / (2 * (n1 - n2))) / np.sqrt(p * (1 - p) * (1 / n1 + 1 / n2))\n",
    "\n",
    "t_true_left = stats.t.ppf(alpha/2, df=n1+n2-1)\n",
    "t_true_right = -t_true_left\n",
    "eq = print_if_in(\n",
    "    t,\n",
    "    t_true_left,\n",
    "    t_true_right,\n",
    ")\n",
    "if not eq:\n",
    "    print(\"p1 != p2, H0 disapproved\")\n",
    "else:\n",
    "    print(\"p1 == p2, H0 approved\")\n",
    "display(Latex(f\"$\\\\hat{{p_1}} = {p1}$\"))\n",
    "display(Latex(f\"$\\\\hat{{p_2}} = {p2}$\"))\n"
   ]
  },
  {
   "cell_type": "markdown",
   "id": "02cdb3a0",
   "metadata": {},
   "source": [
    "### 3. Критерий согласия "
   ]
  },
  {
   "cell_type": "markdown",
   "id": "c7b1f2b7",
   "metadata": {},
   "source": [
    "Hypothesis: $H_0 = \\{F \\in N, F^* = N(\\overline{x}_n, s_n^2)\\}$"
   ]
  },
  {
   "cell_type": "markdown",
   "id": "042aa759",
   "metadata": {},
   "source": [
    "### 3.1 Pearson\n"
   ]
  },
  {
   "cell_type": "code",
   "execution_count": null,
   "id": "8af788b0",
   "metadata": {},
   "outputs": [],
   "source": [
    "x_normal = np.random.normal(3, 7, n)\n",
    "x_uniform = np.random.uniform(-5, 5, n)\n",
    "x_cauchy = np.random.standard_cauchy(n)\n",
    "\n",
    "def pearson_normal(x: np.ndarray, name = \"\"):\n",
    "    k = np.log(len(x))\n",
    "    denses_real, bins, __ = plt.hist(x, bins=int(k), density=True)\n",
    "    mid_points = [(bins[i] + bins[i+1])/2 for i in range(len(bins)-1)]\n",
    "    denses_theor = [stats.norm.pdf(loc=x.mean(), scale=np.sqrt(n/(n-1)*x.var()), x=bins[i+1]) - stats.norm.pdf(loc=x.mean(), scale=np.sqrt(n/(n-1)*x.var()), x=bins[i]) for i in range(len(bins)-1)]\n",
    "    \n",
    "    t = np.sum((denses_real - denses_theor)**2/denses_theor)\n",
    "    \n",
    "    if np.abs(t) <= stats.chi2.ppf(alpha, df=k-1):\n",
    "        print(f\"Hypothesis for {name} approved\")\n",
    "    else:\n",
    "        print(f\"Hypothesis for {name} disapproved\")\n",
    "pearson_normal(x_normal, \"normal\")\n",
    "pearson_normal(x_uniform, \"uniform\")\n",
    "pearson_normal(x_cauchy, \"cauchy\")\n"
   ]
  },
  {
   "cell_type": "code",
   "execution_count": null,
   "id": "12b2cf1e",
   "metadata": {},
   "outputs": [],
   "source": [
    "x_normal = np.random.normal(3, 7, n)\n",
    "x_uniform = np.random.uniform(-5, 5, n)\n",
    "x_cauchy = np.random.standard_cauchy(n)\n",
    "\n",
    "\n",
    "def colmogorov_normal(x: np.ndarray, name=\"\"):\n",
    "    n = len(x)\n",
    "    pdf, bin_edges = np.histogram(\n",
    "        x,\n",
    "        bins=n,\n",
    "        density=True,\n",
    "    )\n",
    "    x_sorted = np.sort(x)\n",
    "\n",
    "    ecdf = np.arange(1, len(x_sorted) + 1) / len(x_sorted)\n",
    "\n",
    "    loc, scale = np.mean(x_sorted), np.std(x_sorted)\n",
    "    tcdf = stats.norm.cdf(x_sorted, loc=loc, scale=scale)\n",
    "    \n",
    "    max_d = np.sqrt(n) * np.max(np.abs(tcdf - ecdf))\n",
    "\n",
    "    d_crit = stats.kstwobign.ppf(1-alpha)\n",
    "\n",
    "    print(max_d, d_crit)\n",
    "    if max_d <= d_crit:\n",
    "        print(f\"Hypothesis for {name} approved\")\n",
    "    else:\n",
    "        print(f\"Hypothesis for {name} disapproved\")\n",
    "\n",
    "\n",
    "colmogorov_normal(x_normal, \"normal\")\n",
    "colmogorov_normal(x_uniform, \"uniform\")\n",
    "colmogorov_normal(x_cauchy, \"cauchy\")"
   ]
  }
 ],
 "metadata": {
  "language_info": {
   "name": "python"
  }
 },
 "nbformat": 4,
 "nbformat_minor": 5
}
