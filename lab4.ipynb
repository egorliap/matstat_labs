{
 "cells": [
  {
   "cell_type": "markdown",
   "id": "ed1987ce",
   "metadata": {},
   "source": [
    "## Лабораторная работа по мат. статистике №4\n",
    "Проверка статистических гипотез"
   ]
  },
  {
   "cell_type": "code",
   "execution_count": null,
   "id": "4413d0a8",
   "metadata": {},
   "outputs": [],
   "source": [
    "import numpy as np\n",
    "import matplotlib.pyplot as plt\n",
    "from scipy import stats\n",
    "from IPython.display import display, Latex\n",
    "\n",
    "n = 500  # amount of samples\n",
    "alpha = 0.05\n",
    "\n",
    "\n",
    "def print_if_in(val: np.float64, lbound: np.float64, rbound: np.float64):\n",
    "    tex = str(val) + (\n",
    "        \"\\\\in\" if lbound <= val <= rbound else \"\\\\notin\") + f\"({lbound}; {rbound})\"\n",
    "    \n",
    "    display(Latex(f\"${tex}$\"))\n",
    "    if lbound <= val <= rbound:\n",
    "        return True\n",
    "    else:\n",
    "        return False"
   ]
  },
  {
   "cell_type": "markdown",
   "id": "8aacb6d9",
   "metadata": {},
   "source": [
    "### 1. Критерий согласия\n",
    "$H_0 = \\{\\hat{\\rho} = 0\\}$"
   ]
  },
  {
   "cell_type": "code",
   "execution_count": null,
   "id": "d2d23965",
   "metadata": {},
   "outputs": [],
   "source": [
    "x = np.random.normal(2, 4, n)"
   ]
  },
  {
   "cell_type": "code",
   "execution_count": null,
   "id": "bf996139",
   "metadata": {},
   "outputs": [],
   "source": [
    "x1 = x[: len(x) // 2]\n",
    "x2 = x[len(x) // 2 :]\n",
    "\n",
    "p = stats.pearsonr(x1, x2).statistic\n",
    "t = p / np.sqrt(1 - np.pow(p, 2)) * np.sqrt(n/2 - 2)\n",
    "t_true_left = stats.t.ppf(alpha / 2, df=n / 2 - 2)\n",
    "t_true_right = -t_true_left\n",
    "isn_cor = print_if_in(t, t_true_left, t_true_right)\n",
    "if isn_cor:\n",
    "    print(\"x1 and x2 are not correlated, H0 approved\")\n",
    "else:\n",
    "    print(\"x1 and x2 are correlated, H0 disapproved\")\n",
    "    \n",
    "display(Latex(f\"$\\\\hat{{p}} = {p}$\"))\n",
    "plt.scatter(x1,x2)\n",
    "plt.show()"
   ]
  },
  {
   "cell_type": "code",
   "execution_count": null,
   "id": "333e0a85",
   "metadata": {},
   "outputs": [],
   "source": [
    "\n",
    "x1 = x\n",
    "x2 = 4*x + 3 + np.random.standard_normal(n)\n",
    "p = stats.pearsonr(x1, x2).statistic\n",
    "t = (p / np.sqrt(1 - np.pow(p, 2))) * np.sqrt(n - 2)\n",
    "t_true_left = stats.t.ppf(alpha/ 2, df=n - 2)\n",
    "t_true_right = -t_true_left\n",
    "isn_cor = print_if_in(t, t_true_left, t_true_right)\n",
    "if isn_cor:\n",
    "    print(\"x1 and x2 are not correlated, H0 approved\")\n",
    "else:\n",
    "    print(\"x1 and x2 are correlated, H0 disapproved\")\n",
    "display(Latex(f\"$\\\\hat{{p}} = {p}$\"))\n",
    "plt.scatter(x1,x2)\n",
    "plt.show()\n"
   ]
  },
  {
   "cell_type": "markdown",
   "id": "0a85a816",
   "metadata": {},
   "source": [
    "### 2. Критерий однородности"
   ]
  },
  {
   "cell_type": "markdown",
   "id": "efe0baa5",
   "metadata": {},
   "source": [
    "2.1 $H_0 = \\{\\mu_x = \\mu_y\\}$"
   ]
  },
  {
   "cell_type": "code",
   "execution_count": null,
   "id": "80bd4336",
   "metadata": {},
   "outputs": [],
   "source": [
    "x1 = np.random.normal(2, 4, n)\n",
    "x2 = np.random.normal(2.5, 6, n)\n",
    "\n",
    "z = x1 - x2\n",
    "\n",
    "t = z.mean() / (np.sqrt(z.var() * (n / (n - 1))) / np.sqrt(n))\n",
    "t_true_left = stats.t.ppf(alpha / 2, df=n - 1)\n",
    "t_true_right = -t_true_left\n",
    "eq = print_if_in(\n",
    "    t,\n",
    "    z.mean() + t_true_left * (np.sqrt(z.var() * (n / (n - 1))) / np.sqrt(n-1)),\n",
    "    z.mean() + t_true_right * (np.sqrt(z.var() * (n / (n - 1))) / np.sqrt(n-1)),\n",
    ")\n",
    "if not eq:\n",
    "    print(\"Mx != My, H0 disapproved\")\n",
    "else:\n",
    "    print(\"Mx == My, H0 approved\")"
   ]
  },
  {
   "cell_type": "code",
   "execution_count": null,
   "id": "65d70b2b",
   "metadata": {},
   "outputs": [],
   "source": [
    "n1 = n + 100\n",
    "\n",
    "x = np.random.normal(2, 4, n1)\n",
    "x1 = x[: n1 // 3]\n",
    "x2 = x[n1 // 3 :]\n",
    "n2 = n1 - n1 // 3\n",
    "\n",
    "n1 = n1 // 3\n",
    "s_ = np.sqrt((x1.var() * n1 + x2.var() * n2) / (n1 + n2 - 2))\n",
    "t = (x1.mean() - x2.mean()) / (s_ * np.sqrt(1 / n1 + 1 / n2))\n",
    "t_true_left = stats.t.ppf(alpha / 2, df=n1 + n2 - 2)\n",
    "t_true_right = -t_true_left\n",
    "eq = print_if_in(\n",
    "    t,\n",
    "    t_true_left,\n",
    "    t_true_right,\n",
    ")\n",
    "if not eq:\n",
    "    print(\"Mx != My, H0 disapproved\")\n",
    "else:\n",
    "    print(\"Mx == My, H0 approved\")"
   ]
  },
  {
   "cell_type": "code",
   "execution_count": null,
   "id": "c04ce4e6",
   "metadata": {},
   "outputs": [],
   "source": [
    "n1 = n + 100\n",
    "n2 = n\n",
    "x1 = np.random.normal(2, 4, n1)\n",
    "x2 = np.random.normal(2.5, 6, n2)\n",
    "s_ = np.sqrt((x1.var() * n1 + x2.var() * n2) / (n1 + n2 - 2))\n",
    "t = (x1.mean() - x2.mean()) / (s_ * np.sqrt(1 / n1 + 1 / n2))\n",
    "t_true_left = stats.t.ppf(alpha / 2, df=n1 + n2 - 2)\n",
    "t_true_right = -t_true_left\n",
    "eq = print_if_in(\n",
    "    t,\n",
    "    t_true_left,\n",
    "    t_true_right,\n",
    ")\n",
    "if not eq:\n",
    "    print(\"Mx != My, H0 disapproved\")\n",
    "else:\n",
    "    print(\"Mx == My, H0 approved\")"
   ]
  },
  {
   "cell_type": "markdown",
   "id": "1815be8a",
   "metadata": {},
   "source": [
    "2.2 $H_0 = \\{\\sigma_x = \\sigma_y\\}$"
   ]
  },
  {
   "cell_type": "code",
   "execution_count": null,
   "id": "c62beeb1",
   "metadata": {},
   "outputs": [],
   "source": [
    "n1 = n + 100\n",
    "n2 = n\n",
    "x = np.random.normal(2, 4, n1)\n",
    "x1 = x[:2*len(x)//6]\n",
    "x2 = x[2*len(x)//6:]\n",
    "n1 = 2*len(x)//6\n",
    "n2 = 4*len(x)//6\n",
    "s1 = x1.var()*n1/(n1-1)\n",
    "s2 = x2.var()*n2/(n2-1)\n",
    "f = min(s1,s2)/max(s1,s2)\n",
    "f_true_left = -stats.f.ppf(alpha/2, dfn=n1-1 if min(s1,s2) == s1 else n2-1, dfd=n2-1 if min(s1,s2) == s1 else n1-1)\n",
    "f_true_right = -f_true_left\n",
    "\n",
    "eq = print_if_in(\n",
    "    f,\n",
    "    f_true_left,\n",
    "    f_true_right,\n",
    ")\n",
    "if eq:\n",
    "    print(\"Mx != My, H0 disapproved\")\n",
    "else:\n",
    "    print(\"Mx == My, H0 approved\")"
   ]
  },
  {
   "cell_type": "code",
   "execution_count": null,
   "id": "95b62e3e",
   "metadata": {},
   "outputs": [],
   "source": [
    "n1 = n + 100\n",
    "n2 = n\n",
    "x1 = np.random.normal(2, 4, n1)\n",
    "x2 = np.random.normal(2.5, 6, n2)\n",
    "s1 = x1.var()*n1/(n1-1)\n",
    "s2 = x2.var()*n2/(n2-1)\n",
    "f = min(s1,s2)/max(s1,s2)\n",
    "f_true_left = -stats.f.ppf(alpha/2, dfn=n1-1 if min(s1,s2) == s1 else n2-1, dfd=n2-1 if min(s1,s2) == s1 else n1-1)\n",
    "f_true_right = -f_true_left\n",
    "\n",
    "eq = print_if_in(\n",
    "    f,\n",
    "    f_true_left,\n",
    "    f_true_right,\n",
    ")\n",
    "if eq:\n",
    "    print(\"Mx != My, H0 disapproved\")\n",
    "else:\n",
    "    print(\"Mx == My, H0 approved\")"
   ]
  }
 ],
 "metadata": {
  "language_info": {
   "name": "python"
  }
 },
 "nbformat": 4,
 "nbformat_minor": 5
}
