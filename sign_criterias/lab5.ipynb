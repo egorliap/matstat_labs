{
 "cells": [
  {
   "cell_type": "code",
   "execution_count": null,
   "id": "4ff7fc95",
   "metadata": {},
   "outputs": [],
   "source": [
    "import numpy as np\n",
    "from scipy import stats\n",
    "import matplotlib.pyplot as plt\n",
    "\n",
    "# Установка seed для воспроизводимости\n",
    "np.random.seed(42)\n",
    "\n",
    "n = 500"
   ]
  },
  {
   "cell_type": "markdown",
   "id": "8323b30e",
   "metadata": {},
   "source": [
    "## 1. Критерий знаков"
   ]
  },
  {
   "cell_type": "code",
   "execution_count": null,
   "id": "827ac915",
   "metadata": {},
   "outputs": [],
   "source": [
    "def sign_test(x, y):\n",
    "    signs = np.where(x < y, \"-\", np.where(x > y, \"+\", \"0\"))\n",
    "    minus_count = np.sum(signs == \"-\")\n",
    "    plus_count = np.sum(signs == \"+\")\n",
    "    W = min(minus_count, plus_count)\n",
    "    return W, minus_count, plus_count\n"
   ]
  },
  {
   "cell_type": "markdown",
   "id": "bd38b976",
   "metadata": {},
   "source": [
    "### 1.1 выборки"
   ]
  },
  {
   "cell_type": "code",
   "execution_count": null,
   "id": "d4558501",
   "metadata": {},
   "outputs": [],
   "source": [
    "x1 = np.random.normal(2, np.sqrt(5), n)\n",
    "y1 = np.random.normal(2, np.sqrt(8), n)\n",
    "W1, minus1, plus1 = sign_test(x1, y1)\n",
    "print(\"1.1:\")\n",
    "print(f\"W = {W1}, '-' count = {minus1}, '+' count = {plus1}\")"
   ]
  },
  {
   "cell_type": "markdown",
   "id": "5a6d7e51",
   "metadata": {},
   "source": [
    "### 1.2 выборки"
   ]
  },
  {
   "cell_type": "code",
   "execution_count": null,
   "id": "9b2bff22",
   "metadata": {},
   "outputs": [],
   "source": [
    "# 1.2 выборки\n",
    "x2 = np.random.normal(2, np.sqrt(5), n)\n",
    "y2 = np.random.normal(2.2, np.sqrt(7), n)\n",
    "W2, minus2, plus2 = sign_test(x2, y2)\n",
    "print(\"\\n1.2:\")\n",
    "print(f\"W = {W2}, '-' count = {minus2}, '+' count = {plus2}\")\n"
   ]
  },
  {
   "cell_type": "markdown",
   "id": "2fb07a1d",
   "metadata": {},
   "source": [
    "## 2. Ранговый коэффициент корреляции Кэндела"
   ]
  },
  {
   "cell_type": "code",
   "execution_count": null,
   "id": "b588d7ee",
   "metadata": {},
   "outputs": [],
   "source": [
    "def kendall_tau(x, y):\n",
    "    tau, p_value = stats.kendalltau(x, y)\n",
    "    return tau, p_value"
   ]
  },
  {
   "cell_type": "markdown",
   "id": "49737c96",
   "metadata": {},
   "source": [
    "### 2.1 a) Выборку пополам"
   ]
  },
  {
   "cell_type": "code",
   "execution_count": null,
   "id": "7a16c7ec",
   "metadata": {},
   "outputs": [],
   "source": [
    "x3 = np.random.normal(2, np.sqrt(5), n)\n",
    "half = n // 2\n",
    "tau1, p1 = kendall_tau(x3[:half], x3[half:half*2])\n",
    "print(\"\\n2.1 a):\")\n",
    "print(f\"Kendall's tau = {tau1}, p-value = {p1}\")\n"
   ]
  },
  {
   "cell_type": "markdown",
   "id": "6e9b50ca",
   "metadata": {},
   "source": [
    "### 2.1 б) Две выборки"
   ]
  },
  {
   "cell_type": "code",
   "execution_count": null,
   "id": "5b75ccbd",
   "metadata": {},
   "outputs": [],
   "source": [
    "x4 = np.random.normal(2, np.sqrt(5), n)\n",
    "y4 = 3 * x4 - 5 + np.random.normal(0, 2, n)\n",
    "tau2, p2 = kendall_tau(x4, y4)\n",
    "print(\"\\n2.1 б):\")\n",
    "print(f\"Kendall's tau = {tau2}, p-value = {p2}\")\n"
   ]
  },
  {
   "cell_type": "markdown",
   "id": "8cf4bde0",
   "metadata": {},
   "source": [
    "### 2.2 Низкий коэффициент лин. зависимости"
   ]
  },
  {
   "cell_type": "code",
   "execution_count": null,
   "id": "b513efc3",
   "metadata": {},
   "outputs": [],
   "source": [
    "x5 = np.random.normal(2, np.sqrt(5), n)\n",
    "y5 = 0.05 * x5 - 5 + np.random.normal(0, 2, n)\n",
    "tau3, p3 = kendall_tau(x5, y5)\n",
    "print(\"\\n2.2:\")\n",
    "print(f\"Kendall's tau = {tau3}, p-value = {p3}\")\n"
   ]
  },
  {
   "cell_type": "markdown",
   "id": "85685478",
   "metadata": {},
   "source": [
    "## 3. Критерий отсутствия автокорреляции ближайших соседей"
   ]
  },
  {
   "cell_type": "code",
   "execution_count": null,
   "id": "930f4816",
   "metadata": {},
   "outputs": [],
   "source": [
    "def autocorrelation_test(x):\n",
    "    autocorr = np.correlate(x[:-1], x[1:], mode='valid')[0] / (np.std(x[:-1]) * np.std(x[1:]) * (len(x)-1))\n",
    "    return autocorr\n"
   ]
  },
  {
   "cell_type": "markdown",
   "id": "9ff91dc4",
   "metadata": {},
   "source": [
    "### 3.1 Выборка N(3, 7)"
   ]
  },
  {
   "cell_type": "code",
   "execution_count": null,
   "id": "4d1ce470",
   "metadata": {},
   "outputs": [],
   "source": [
    "x6 = np.random.normal(3, np.sqrt(7), n)\n",
    "autocorr1 = autocorrelation_test(x6)\n",
    "print(\"\\n3.1:\")\n",
    "print(f\"Autocorrelation coefficient = {autocorr1}\")\n"
   ]
  },
  {
   "cell_type": "markdown",
   "id": "1a4a7acf",
   "metadata": {},
   "source": [
    "### 3.2 Выборка"
   ]
  },
  {
   "cell_type": "code",
   "execution_count": null,
   "id": "2c67a7e9",
   "metadata": {},
   "outputs": [],
   "source": [
    "x7 = np.random.normal(3, 7, n)\n",
    "\n",
    "for j in range(1, n):\n",
    "    x7[j] = x7[j] - x7[j-1] + 2 * np.random.normal(0, 1)\n",
    "autocorr2 = autocorrelation_test(x7)\n",
    "print(\"\\n3.2:\")\n",
    "print(f\"Autocorrelation coefficient = {autocorr2}\")"
   ]
  }
 ],
 "metadata": {
  "language_info": {
   "name": "python"
  }
 },
 "nbformat": 4,
 "nbformat_minor": 5
}
