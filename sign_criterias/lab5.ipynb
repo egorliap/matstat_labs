{
 "cells": [
  {
   "cell_type": "code",
   "execution_count": null,
   "id": "4ff7fc95",
   "metadata": {},
   "outputs": [],
   "source": [
    "import numpy as np\n",
    "from scipy import stats\n",
    "from IPython.display import display, Latex\n",
    "\n",
    "# Установка seed для воспроизводимости\n",
    "np.random.seed(42)\n",
    "\n",
    "n = 500"
   ]
  },
  {
   "cell_type": "markdown",
   "id": "8323b30e",
   "metadata": {},
   "source": [
    "## 1. Критерий знаков"
   ]
  },
  {
   "cell_type": "code",
   "execution_count": null,
   "id": "827ac915",
   "metadata": {},
   "outputs": [],
   "source": [
    "def sign_test(x, y):\n",
    "    signs = np.where(x > y, \"-\", np.where(x < y, \"+\", \"0\"))\n",
    "    minus_count = np.sum(signs == \"-\")\n",
    "    plus_count = np.sum(signs == \"+\")\n",
    "    t = min(minus_count, plus_count)\n",
    "    return t, minus_count, plus_count\n"
   ]
  },
  {
   "cell_type": "markdown",
   "id": "bd38b976",
   "metadata": {},
   "source": [
    "### 1.1 выборки"
   ]
  },
  {
   "cell_type": "code",
   "execution_count": null,
   "id": "d4558501",
   "metadata": {},
   "outputs": [],
   "source": [
    "x1 = np.random.normal(2, np.sqrt(5), n)\n",
    "y1 = np.random.normal(2, np.sqrt(8), n)\n",
    "t1, minus1, plus1 = sign_test(x1, y1)\n",
    "print(\"1.1:\")\n",
    "print(f\"t = {t1}, '-' count = {minus1}, '+' count = {plus1}\")"
   ]
  },
  {
   "cell_type": "markdown",
   "id": "5a6d7e51",
   "metadata": {},
   "source": [
    "### 1.2 выборки"
   ]
  },
  {
   "cell_type": "code",
   "execution_count": null,
   "id": "9b2bff22",
   "metadata": {},
   "outputs": [],
   "source": [
    "n = 500\n",
    "\n",
    "def modified_sign_test(x, y):\n",
    "    # Вычисляем разницы\n",
    "    diffs = y - x\n",
    "    \n",
    "    # Игнорируем нулевые разницы\n",
    "    mask = diffs != 0\n",
    "    filtered_diffs = diffs[mask]\n",
    "    abs_diffs = np.abs(filtered_diffs)\n",
    "    \n",
    "    # Присваиваем ранги абсолютным разницам\n",
    "    ranks = stats.rankdata(abs_diffs)\n",
    "    \n",
    "    # Для каждой пары создаем 4 ранга:\n",
    "    # 2 для положительных и 2 для отрицательных\n",
    "    expanded_ranks = np.repeat(ranks, 2)\n",
    "    \n",
    "    # Разделяем на положительные и отрицательные\n",
    "    signs = np.sign(filtered_diffs)\n",
    "    pos_ranks = expanded_ranks[np.repeat(signs < 0, 2)]\n",
    "    neg_ranks = expanded_ranks[np.repeat(signs > 0, 2)]\n",
    "    \n",
    "    # Суммируем ранги\n",
    "    sum_pos = np.sum(pos_ranks) if len(pos_ranks) > 0 else 0\n",
    "    sum_neg = np.sum(neg_ranks) if len(neg_ranks) > 0 else 0\n",
    "    \n",
    "    W = min(sum_pos, sum_neg)\n",
    "    \n",
    "    return W, sum_pos, sum_neg, len(filtered_diffs)\n",
    "\n",
    "# 1.2 выборки\n",
    "x2 = np.random.normal(2, np.sqrt(5), n)\n",
    "y2 = np.random.normal(2.2, np.sqrt(7), n)\n",
    "t, sum_pos2, sum_neg2, n_diff2 = modified_sign_test(x2, y2)\n",
    "\n",
    "print(\"1.2 Модифицированный критерий знаков:\")\n",
    "print(f\"t = {t}\")\n",
    "print(f\"Сумма рангов '+' = {sum_pos2}\")\n",
    "print(f\"Сумма рангов '-' = {sum_neg2}\")\n",
    "print(f\"Количество ненулевых разниц: {n_diff2}\")\n",
    "print(f\"Общее количество рангов: {2 * n_diff2}\")  # Умножаем на 2, так как каждый знак дает 2 ранга\n",
    "\n"
   ]
  },
  {
   "cell_type": "markdown",
   "id": "2fb07a1d",
   "metadata": {},
   "source": [
    "## 2. Ранговый коэффициент корреляции Кэндела"
   ]
  },
  {
   "cell_type": "code",
   "execution_count": null,
   "id": "b588d7ee",
   "metadata": {},
   "outputs": [],
   "source": [
    "def kendall_tau(x, y):\n",
    "    tau, p_value = stats.kendalltau(x, y)\n",
    "    return tau, p_value"
   ]
  },
  {
   "cell_type": "markdown",
   "id": "49737c96",
   "metadata": {},
   "source": [
    "### 2.1 a) Выборку пополам"
   ]
  },
  {
   "cell_type": "code",
   "execution_count": null,
   "id": "7a16c7ec",
   "metadata": {},
   "outputs": [],
   "source": [
    "x3 = np.random.normal(2, np.sqrt(5), n)\n",
    "half = n // 2\n",
    "tau1, p1 = kendall_tau(x3[:half], x3[half:half*2])\n",
    "print(\"\\n2.1 a):\")\n",
    "print(f\"Kendall's tau = {tau1}\")\n"
   ]
  },
  {
   "cell_type": "markdown",
   "id": "6e9b50ca",
   "metadata": {},
   "source": [
    "### 2.1 б) Две выборки"
   ]
  },
  {
   "cell_type": "code",
   "execution_count": null,
   "id": "7713386c",
   "metadata": {},
   "outputs": [],
   "source": [
    "def print_if_in(val: np.float64, lbound: np.float64 = None, rbound: np.float64 = None):\n",
    "    if lbound is None:\n",
    "        tex = str(val) + (\n",
    "            \"<=\" if val <= rbound else \">\") + f\"{rbound}\"\n",
    "        \n",
    "        display(Latex(f\"${tex}$\"))\n",
    "        if val <= rbound:\n",
    "            return True\n",
    "        else:\n",
    "            return False\n",
    "    tex = str(val) + (\n",
    "        \"\\\\in\" if lbound <= val <= rbound else \"\\\\notin\") + f\"({lbound}; {rbound})\"\n",
    "    \n",
    "    display(Latex(f\"${tex}$\"))\n",
    "    if lbound <= val <= rbound:\n",
    "        return True\n",
    "    else:\n",
    "        return False"
   ]
  },
  {
   "cell_type": "code",
   "execution_count": null,
   "id": "5b75ccbd",
   "metadata": {},
   "outputs": [],
   "source": [
    "x4 = np.random.normal(2, np.sqrt(5), n)\n",
    "y4 = 3 * x4 - 5 + np.random.normal(0, 2, n)\n",
    "tau2, p2 = kendall_tau(x4, y4)\n",
    "print(\"\\n2.1 б):\")\n",
    "print(f\"Kendall's tau = {tau2}\")\n",
    "\n",
    "alpha = 0.95\n",
    "p = stats.pearsonr(x4, y4).statistic\n",
    "t = (p / np.sqrt(1 - np.pow(p, 2))) * np.sqrt(n - 2)\n",
    "t_true_left = stats.t.ppf(alpha/ 2, df=n - 2)\n",
    "t_true_right = -t_true_left\n",
    "isn_cor = print_if_in(t, rbound=t_true_right)\n",
    "if isn_cor:\n",
    "    print(\"x1 and x2 are not correlated, H0 approved\")\n",
    "else:\n",
    "    print(\"x1 and x2 are correlated, H0 disapproved\")\n",
    "display(Latex(f\"$\\\\hat{{p}} = {p}$\"))\n"
   ]
  },
  {
   "cell_type": "markdown",
   "id": "8cf4bde0",
   "metadata": {},
   "source": [
    "### 2.2 Низкий коэффициент лин. зависимости"
   ]
  },
  {
   "cell_type": "code",
   "execution_count": null,
   "id": "b513efc3",
   "metadata": {},
   "outputs": [],
   "source": [
    "x5 = np.random.normal(2, np.sqrt(5), n)\n",
    "y5 = 0.05 * x5 - 5 + np.random.normal(0, 2, n)\n",
    "tau3, p3 = kendall_tau(x5, y5)\n",
    "print(\"\\n2.2:\")\n",
    "print(f\"Kendall's tau = {tau3}\")\n",
    "\n",
    "alpha = 0.95\n",
    "p = stats.pearsonr(x5, y5).statistic\n",
    "t = (p / np.sqrt(1 - np.pow(p, 2))) * np.sqrt(n - 2)\n",
    "t_true_left = stats.t.ppf(alpha/ 2, df=n - 2)\n",
    "t_true_right = -t_true_left\n",
    "isn_cor = print_if_in(t, rbound=t_true_right)\n",
    "if isn_cor:\n",
    "    print(\"x1 and x2 are not correlated, H0 approved\")\n",
    "else:\n",
    "    print(\"x1 and x2 are correlated, H0 disapproved\")\n",
    "display(Latex(f\"$\\\\hat{{p}} = {p}$\"))\n"
   ]
  },
  {
   "cell_type": "markdown",
   "id": "85685478",
   "metadata": {},
   "source": [
    "## 3. Критерий отсутствия автокорреляции ближайших соседей"
   ]
  },
  {
   "cell_type": "code",
   "execution_count": null,
   "id": "930f4816",
   "metadata": {},
   "outputs": [],
   "source": [
    "x6 = np.random.normal(3, np.sqrt(7), n)\n",
    "sum_x = np.sum(x6)\n",
    "sum_x_sq = np.sum(x6**2)\n",
    "sum_consec = np.sum(x6[:-1] * x6[1:])\n",
    "\n",
    "numerator = n*sum_consec - sum_x**2 + n * x6[0] * x6[-1]\n",
    "denominator = n * sum_x_sq - sum_x**2\n",
    "p = numerator / denominator\n",
    "Mp = -1/(n-1)\n",
    "Dp = n*(n-3)/(n+1)/(n-1)**2\n",
    "t = (p-Mp)/np.sqrt(Dp)\n",
    "print(\"3.1:\", t)\n",
    "\n",
    "\n",
    "for j in range(1, n):\n",
    "    x6[j] = x6[j] - x6[j-1] + 2 * np.random.normal(0, 1)\n",
    "sum_x = np.sum(x6)\n",
    "sum_x_sq = np.sum(x6**2)\n",
    "sum_consec = np.sum(x6[:-1] * x6[1:])\n",
    "\n",
    "numerator = sum_consec - sum_x**2 + n * x6[0] * x6[-1]\n",
    "denominator = n * sum_x_sq - sum_x**2\n",
    "p = numerator / denominator\n",
    "Mp = -1/(n-1)\n",
    "Dp = n*(n-3)/(n+1)/(n-1)**2\n",
    "t = (p-Mp)/np.sqrt(Dp)\n",
    "print(\"3.2:\", t)\n"
   ]
  }
 ],
 "metadata": {
  "language_info": {
   "name": "python"
  }
 },
 "nbformat": 4,
 "nbformat_minor": 5
}
