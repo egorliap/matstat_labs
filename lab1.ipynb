{
 "cells": [
  {
   "cell_type": "markdown",
   "metadata": {},
   "source": [
    "### Лабораторная работа по мат. статистике №1"
   ]
  },
  {
   "cell_type": "code",
   "execution_count": null,
   "metadata": {},
   "outputs": [],
   "source": [
    "import numpy as np\n",
    "from scipy.stats import skew, kurtosis\n",
    "from IPython.display import display, Latex\n",
    "import matplotlib.pyplot as plt\n",
    "\n",
    "\n",
    "cdot = r\"\\cdot\""
   ]
  },
  {
   "cell_type": "markdown",
   "metadata": {},
   "source": [
    "**Получение данных**"
   ]
  },
  {
   "cell_type": "code",
   "execution_count": null,
   "metadata": {},
   "outputs": [
    {
     "ename": "FileNotFoundError",
     "evalue": "[Errno 2] No such file or directory: ''",
     "output_type": "error",
     "traceback": [
      "\u001b[1;31m---------------------------------------------------------------------------\u001b[0m",
      "\u001b[1;31mFileNotFoundError\u001b[0m                         Traceback (most recent call last)",
      "Cell \u001b[1;32mIn[15], line 14\u001b[0m\n\u001b[0;32m      9\u001b[0m     \u001b[38;5;28;01mreturn\u001b[39;00m bins, freqs\n\u001b[0;32m     12\u001b[0m filename \u001b[38;5;241m=\u001b[39m \u001b[38;5;28minput\u001b[39m(\u001b[38;5;124m\"\u001b[39m\u001b[38;5;124mEnter filename with data\u001b[39m\u001b[38;5;124m\"\u001b[39m)\n\u001b[1;32m---> 14\u001b[0m bins, freqs \u001b[38;5;241m=\u001b[39m \u001b[43mread_data_from_file\u001b[49m\u001b[43m(\u001b[49m\u001b[43mfilename\u001b[49m\u001b[43m)\u001b[49m\n\u001b[0;32m     16\u001b[0m midpoints \u001b[38;5;241m=\u001b[39m [(a \u001b[38;5;241m+\u001b[39m b) \u001b[38;5;241m/\u001b[39m \u001b[38;5;241m2\u001b[39m \u001b[38;5;28;01mfor\u001b[39;00m a, b \u001b[38;5;129;01min\u001b[39;00m bins]  \u001b[38;5;66;03m# Средние значения групп\u001b[39;00m\n\u001b[0;32m     17\u001b[0m labels \u001b[38;5;241m=\u001b[39m [\u001b[38;5;124mf\u001b[39m\u001b[38;5;124m\"\u001b[39m\u001b[38;5;124m(\u001b[39m\u001b[38;5;132;01m{\u001b[39;00ma\u001b[38;5;132;01m}\u001b[39;00m\u001b[38;5;124m;\u001b[39m\u001b[38;5;132;01m{\u001b[39;00mb\u001b[38;5;132;01m}\u001b[39;00m\u001b[38;5;124m)\u001b[39m\u001b[38;5;124m\"\u001b[39m \u001b[38;5;28;01mfor\u001b[39;00m a, b \u001b[38;5;129;01min\u001b[39;00m bins]  \u001b[38;5;66;03m# Подписи интервалов\u001b[39;00m\n",
      "Cell \u001b[1;32mIn[15], line 3\u001b[0m, in \u001b[0;36mread_data_from_file\u001b[1;34m(filename)\u001b[0m\n\u001b[0;32m      1\u001b[0m \u001b[38;5;28;01mdef\u001b[39;00m\u001b[38;5;250m \u001b[39m\u001b[38;5;21mread_data_from_file\u001b[39m(filename: \u001b[38;5;28mstr\u001b[39m):\n\u001b[0;32m      2\u001b[0m     bins, freqs \u001b[38;5;241m=\u001b[39m [], []\n\u001b[1;32m----> 3\u001b[0m     \u001b[38;5;28;01mwith\u001b[39;00m \u001b[38;5;28;43mopen\u001b[39;49m\u001b[43m(\u001b[49m\u001b[43mfilename\u001b[49m\u001b[43m,\u001b[49m\u001b[43m \u001b[49m\u001b[38;5;124;43m\"\u001b[39;49m\u001b[38;5;124;43mr\u001b[39;49m\u001b[38;5;124;43m\"\u001b[39;49m\u001b[43m,\u001b[49m\u001b[43m \u001b[49m\u001b[43mencoding\u001b[49m\u001b[38;5;241;43m=\u001b[39;49m\u001b[38;5;124;43m\"\u001b[39;49m\u001b[38;5;124;43mUTF-8\u001b[39;49m\u001b[38;5;124;43m\"\u001b[39;49m\u001b[43m)\u001b[49m \u001b[38;5;28;01mas\u001b[39;00m f:\n\u001b[0;32m      4\u001b[0m         lines \u001b[38;5;241m=\u001b[39m f\u001b[38;5;241m.\u001b[39mreadlines()\n\u001b[0;32m      5\u001b[0m         \u001b[38;5;28;01mfor\u001b[39;00m line \u001b[38;5;129;01min\u001b[39;00m lines:\n",
      "File \u001b[1;32mc:\\Users\\egorl\\OneDrive\\Документы\\d\\matstat_labs\\.venv\\lib\\site-packages\\IPython\\core\\interactiveshell.py:324\u001b[0m, in \u001b[0;36m_modified_open\u001b[1;34m(file, *args, **kwargs)\u001b[0m\n\u001b[0;32m    317\u001b[0m \u001b[38;5;28;01mif\u001b[39;00m file \u001b[38;5;129;01min\u001b[39;00m {\u001b[38;5;241m0\u001b[39m, \u001b[38;5;241m1\u001b[39m, \u001b[38;5;241m2\u001b[39m}:\n\u001b[0;32m    318\u001b[0m     \u001b[38;5;28;01mraise\u001b[39;00m \u001b[38;5;167;01mValueError\u001b[39;00m(\n\u001b[0;32m    319\u001b[0m         \u001b[38;5;124mf\u001b[39m\u001b[38;5;124m\"\u001b[39m\u001b[38;5;124mIPython won\u001b[39m\u001b[38;5;124m'\u001b[39m\u001b[38;5;124mt let you open fd=\u001b[39m\u001b[38;5;132;01m{\u001b[39;00mfile\u001b[38;5;132;01m}\u001b[39;00m\u001b[38;5;124m by default \u001b[39m\u001b[38;5;124m\"\u001b[39m\n\u001b[0;32m    320\u001b[0m         \u001b[38;5;124m\"\u001b[39m\u001b[38;5;124mas it is likely to crash IPython. If you know what you are doing, \u001b[39m\u001b[38;5;124m\"\u001b[39m\n\u001b[0;32m    321\u001b[0m         \u001b[38;5;124m\"\u001b[39m\u001b[38;5;124myou can use builtins\u001b[39m\u001b[38;5;124m'\u001b[39m\u001b[38;5;124m open.\u001b[39m\u001b[38;5;124m\"\u001b[39m\n\u001b[0;32m    322\u001b[0m     )\n\u001b[1;32m--> 324\u001b[0m \u001b[38;5;28;01mreturn\u001b[39;00m io_open(file, \u001b[38;5;241m*\u001b[39margs, \u001b[38;5;241m*\u001b[39m\u001b[38;5;241m*\u001b[39mkwargs)\n",
      "\u001b[1;31mFileNotFoundError\u001b[0m: [Errno 2] No such file or directory: ''"
     ]
    }
   ],
   "source": [
    "def read_data_from_file(filename: str):\n",
    "    bins, freqs = [], []\n",
    "    with open(filename, \"r\", encoding=\"UTF-8\") as f:\n",
    "        lines = f.readlines()\n",
    "        for line in lines:\n",
    "            bin_, freq = line.split()\n",
    "            bins.append(tuple(map(float, bin_.strip(\"()\").split(\";\"))))\n",
    "            freqs.append(int(freq))\n",
    "    return bins, freqs\n",
    "\n",
    "\n",
    "filename = input(\"Enter filename with data\\n<(a,b) freq> in each line\")\n",
    "\n",
    "bins, freqs = read_data_from_file(filename)\n",
    "\n",
    "midpoints = [(a + b) / 2 for a, b in bins]  # Средние значения групп\n",
    "labels = [f\"({a};{b})\" for a, b in bins]  # Подписи интервалов\n",
    "bin_lengths = [b - a for a, b in bins]  # Дельты групп\n",
    "n = sum(freqs)  # Количество наблюдений\n",
    "probs = [freq / n for freq in freqs]  # Вероятности\n",
    "cumulative_probs = np.cumsum(probs)\n",
    "\n",
    "data = np.repeat(\n",
    "    midpoints, freqs\n",
    ")  # Создание массива данных (для удобства применения функций пакета)"
   ]
  },
  {
   "cell_type": "markdown",
   "metadata": {},
   "source": [
    "**Гистограмма**"
   ]
  },
  {
   "cell_type": "code",
   "execution_count": null,
   "metadata": {},
   "outputs": [],
   "source": [
    "# Создание гистограммы\n",
    "plt.bar(midpoints, freqs, width=bin_lengths, edgecolor=\"black\", color=\"skyblue\")\n",
    "\n",
    "# Настройка подписей\n",
    "plt.xticks(midpoints, labels)  # Подписи интервалов на оси X\n",
    "plt.xlabel(\"Интервалы\")\n",
    "plt.ylabel(\"Частота\")\n",
    "plt.title(\"Гистограмма распределения\")\n",
    "\n",
    "plt.grid(axis=\"y\", linestyle=\"--\", alpha=0.7)\n",
    "for x, y in zip(midpoints, freqs):\n",
    "    plt.text(x, y + 1, str(y), ha=\"center\", va=\"bottom\")\n",
    "plt.show()"
   ]
  },
  {
   "cell_type": "markdown",
   "metadata": {},
   "source": [
    "**Функция распределения**"
   ]
  },
  {
   "cell_type": "code",
   "execution_count": null,
   "metadata": {},
   "outputs": [],
   "source": [
    "plt.bar(midpoints, cumulative_probs, width=5, edgecolor=\"black\", color=\"skyblue\")\n",
    "\n",
    "# Настройка подписей\n",
    "plt.xticks(midpoints, labels)  # Подписи интервалов на оси X\n",
    "plt.xlabel(\"Интервалы\")\n",
    "plt.ylabel(r\"$F^*_\\xi (x)$\", rotation=0, size=11)\n",
    "plt.title(\"Функция распределения\")\n",
    "\n",
    "plt.grid(axis=\"y\", linestyle=\"--\", alpha=0.7)\n",
    "for x, y in zip(midpoints, cumulative_probs):\n",
    "    plt.text(x, y + 0.01, str(np.round(y, 3)), ha=\"center\", va=\"bottom\")\n",
    "\n",
    "plt.show()"
   ]
  },
  {
   "cell_type": "markdown",
   "metadata": {},
   "source": [
    "**Оценка среднего**"
   ]
  },
  {
   "cell_type": "code",
   "execution_count": null,
   "metadata": {},
   "outputs": [],
   "source": [
    "def display_mean(data, freqs, midpoints):\n",
    "    mean = np.round(np.mean(data), 3)\n",
    "    mean_latex = (\n",
    "        \"\\hat{m} = \\overline{X}_n = \\\\frac{1}\"\n",
    "        + \"{\"\n",
    "        + str(sum(freqs))\n",
    "        + \"}\"\n",
    "        + f\"({' + '.join([str(freq) + cdot + str(mp) for freq, mp in zip(freqs, midpoints)])})\"\n",
    "        + f\"= {mean}\"\n",
    "    )\n",
    "    display(Latex(f\"${mean_latex}$\"))\n",
    "\n",
    "\n",
    "display_mean(data, freqs, midpoints)"
   ]
  },
  {
   "cell_type": "markdown",
   "metadata": {},
   "source": [
    "**Оценка дисперсии**\n",
    "1) Выборочная неисправленная дисперсия"
   ]
  },
  {
   "cell_type": "code",
   "execution_count": null,
   "metadata": {},
   "outputs": [],
   "source": [
    "def display_var(data, freqs, midpoints):\n",
    "    mean = np.round(np.mean(data), 3)\n",
    "    variance = np.round(np.var(data, mean=mean), 3)\n",
    "\n",
    "    mean_latex = (\n",
    "        \"S^2_n = \\\\hat{\\\\mu}_2= \\\\frac{1}\"\n",
    "        + \"{\"\n",
    "        + str(n)\n",
    "        + \"}\"\n",
    "        + f\"({' + '.join(['(' + str(mp) + '-' + str(mean) + ')^2' + cdot + str(freq)  for freq, mp in zip(freqs, midpoints)])})\"\n",
    "        + f\"= {variance}\"\n",
    "    )\n",
    "    display(Latex(f\"${mean_latex}$\"))\n",
    "\n",
    "\n",
    "display_var(data, freqs, midpoints)"
   ]
  },
  {
   "cell_type": "markdown",
   "metadata": {},
   "source": [
    "2) Выборочная исправленная дисперсия"
   ]
  },
  {
   "cell_type": "code",
   "execution_count": null,
   "metadata": {},
   "outputs": [],
   "source": [
    "def display_var_fixed(data, freqs, midpoints):\n",
    "    variance = np.round((n / (n - 1)) * np.var(data), 3)\n",
    "\n",
    "    mean_latex = (\n",
    "        \"s^2_n = \\\\hat{\\\\sigma}{^2} = \\\\frac\"\n",
    "        + \"{\"\n",
    "        + str(n)\n",
    "        + \"}\"\n",
    "        + \"{\"\n",
    "        + str(n - 1)\n",
    "        + \"}\"\n",
    "        + \"S^2_n\"\n",
    "        + f\"= {variance}\"\n",
    "    )\n",
    "    display(Latex(f\"${mean_latex}$\"))\n",
    "\n",
    "\n",
    "display_var_fixed(data, freqs, midpoints)"
   ]
  },
  {
   "cell_type": "markdown",
   "metadata": {},
   "source": [
    "**Медиана**"
   ]
  },
  {
   "cell_type": "code",
   "execution_count": null,
   "metadata": {},
   "outputs": [],
   "source": [
    "def display_median(data, freqs, midpoints):\n",
    "    median = np.median(data)\n",
    "\n",
    "    median_latex = (\n",
    "        \"\\\\hat{u}_{\\\\frac{1}{2}} =\"\n",
    "        + \"\\\\begin{cases} x_{[\\\\frac{1}{2}\\\\cdot n] + 1}, \\\\frac{1}{2}\\\\cdot n \\\\notin \\Z \\\\\\\\ \\\\frac{x_{[\\\\frac{1}{2}\\\\cdot n]} + x_{[\\\\frac{1}{2}\\\\cdot n] + 1}}{2}, \\\\frac{1}{2}\\\\cdot n \\\\in \\Z \\\\end{cases}\"\n",
    "        + f\"= [n = {n}]\"\n",
    "        + f\"= {median}\"\n",
    "    )\n",
    "    display(Latex(f\"${median_latex}$\"))\n",
    "\n",
    "\n",
    "display_median(data, freqs, midpoints)"
   ]
  },
  {
   "cell_type": "markdown",
   "metadata": {},
   "source": [
    "**Коэффициент асимметрии**"
   ]
  },
  {
   "cell_type": "code",
   "execution_count": null,
   "metadata": {},
   "outputs": [],
   "source": [
    "def display_skewness(data, freqs, midpoints):\n",
    "    mean = np.round(np.mean(data), 3)\n",
    "    skewness = np.round(skew(data), 3)\n",
    "    skewness_latex = (\n",
    "        \"\\\\hat{\\\\rho}\"\n",
    "        + \"= \\\\frac{\\\\hat{\\\\mu}_3}{\\\\hat{\\\\mu}_2^\\\\frac{3}{2}}\"\n",
    "        + \"= \\\\frac{\"\n",
    "        + \"\\\\frac{1}{%s}\" % n\n",
    "        + f\"({' + '.join(['(' + str(mp) + '-' + str(mean) + ')^3' + cdot + str(freq)  for freq, mp in zip(freqs, midpoints)])})\"\n",
    "        + \"}{\"\n",
    "        + \"(\\\\frac{1}{%s}\" % n\n",
    "        + f\"({' + '.join(['(' + str(mp) + '-' + str(mean) + ')^2' + cdot + str(freq)  for freq, mp in zip(freqs, midpoints)])})\"\n",
    "        + \")^\\\\frac{3}{2}}\"\n",
    "        + f\"= {skewness}\"\n",
    "    )\n",
    "    display(Latex(f\"${skewness_latex}$\"))\n",
    "\n",
    "\n",
    "display_skewness(data, freqs, midpoints)"
   ]
  },
  {
   "cell_type": "markdown",
   "metadata": {},
   "source": [
    "**Коэффициент эксцесса**"
   ]
  },
  {
   "cell_type": "code",
   "execution_count": null,
   "metadata": {},
   "outputs": [],
   "source": [
    "def display_kurtosis(data, freqs, midpoints):\n",
    "    mean = np.round(np.mean(data), 3)\n",
    "    kurt = np.round(kurtosis(data), 3)\n",
    "    kurt_latex = (\n",
    "        \"\\\\hat{\\\\kappa}\"\n",
    "        + \"= \\\\frac{\\\\hat{\\\\mu}_4}{\\\\hat{\\\\mu}_2^2} - 3\"\n",
    "        + \"= \\\\frac{\"\n",
    "        + \"\\\\frac{1}{%s}\" % n\n",
    "        + f\"({' + '.join(['(' + str(mp) + '-' + str(mean) + ')^4' + cdot + str(freq) for freq, mp in zip(freqs, midpoints)])})\"\n",
    "        + \"}{\"\n",
    "        + \"(\\\\frac{1}{%s}\" % n\n",
    "        + f\"({' + '.join(['(' + str(mp) + '-' + str(mean) + ')^2' + cdot + str(freq) for freq, mp in zip(freqs, midpoints)])})\"\n",
    "        + \")^2} - 3\"\n",
    "        + f\"= {kurt}\"\n",
    "    )\n",
    "    display(Latex(f\"${kurt_latex}$\"))\n",
    "\n",
    "\n",
    "display_kurtosis(data, freqs, midpoints)"
   ]
  },
  {
   "cell_type": "markdown",
   "metadata": {},
   "source": [
    "**Нижний квартиль**"
   ]
  },
  {
   "cell_type": "code",
   "execution_count": null,
   "metadata": {},
   "outputs": [],
   "source": [
    "def display_q1(data, freqs, midpoints):\n",
    "    q1 = np.percentile(data, 25)\n",
    "\n",
    "    q1_latex = (\n",
    "        \"\\\\hat{u}_{\\\\frac{1}{4}} =\"\n",
    "        + \"\\\\begin{cases} x_{[\\\\frac{1}{4}\\\\cdot n] + 1}, \\\\frac{1}{4}\\\\cdot n \\\\notin \\Z \\\\\\\\ \\\\frac{x_{[\\\\frac{1}{4}\\\\cdot n]} + x_{[\\\\frac{1}{4}\\\\cdot n] + 1}}{2}, \\\\frac{1}{4}\\\\cdot n \\\\in \\Z \\\\end{cases}\"\n",
    "        + f\"= [n = {n}]\"\n",
    "        + f\"= {q1}\"\n",
    "    )\n",
    "    display(Latex(f\"${q1_latex}$\"))\n",
    "\n",
    "\n",
    "display_q1(data, freqs, midpoints)"
   ]
  },
  {
   "cell_type": "markdown",
   "metadata": {},
   "source": [
    "**Верхний квартиль**"
   ]
  },
  {
   "cell_type": "code",
   "execution_count": null,
   "metadata": {},
   "outputs": [],
   "source": [
    "def display_q3(data, freqs, midpoints):\n",
    "    q3 = np.percentile(data, 75)\n",
    "\n",
    "    q3_latex = (\n",
    "        \"\\\\hat{u}_{\\\\frac{3}{4}} =\"\n",
    "        + \"\\\\begin{cases} x_{[\\\\frac{3}{4}\\\\cdot n] + 1}, \\\\frac{3}{4}\\\\cdot n \\\\notin \\Z \\\\\\\\ \\\\frac{x_{[\\\\frac{3}{4}\\\\cdot n]} + x_{[\\\\frac{3}{4}\\\\cdot n] + 1}}{2}, \\\\frac{3}{4}\\\\cdot n \\\\in \\Z \\\\end{cases}\"\n",
    "        + f\"= [n = {n}]\"\n",
    "        + f\"= {q3}\"\n",
    "    )\n",
    "    display(Latex(f\"${q3_latex}$\"))\n",
    "\n",
    "\n",
    "display_q3(data, freqs, midpoints)"
   ]
  },
  {
   "cell_type": "markdown",
   "metadata": {},
   "source": [
    "**Добавление 10000 и получение оценок данных с выбросом**"
   ]
  },
  {
   "cell_type": "code",
   "execution_count": null,
   "metadata": {},
   "outputs": [],
   "source": [
    "new_bins = bins + [(10000, 10000)]\n",
    "new_freqs = freqs + [1]\n",
    "midpoints = [(a + b) / 2 for a, b in new_bins]\n",
    "n = sum(new_freqs)\n",
    "\n",
    "data = np.repeat(midpoints, new_freqs)\n",
    "\n",
    "display_mean(data, new_freqs, midpoints)\n",
    "display_var(data, new_freqs, midpoints)\n",
    "display_var_fixed(data, new_freqs, midpoints)\n",
    "display_median(data, new_freqs, midpoints)\n",
    "display_skewness(data, new_freqs, midpoints)\n",
    "display_kurtosis(data, new_freqs, midpoints)\n",
    "display_q1(data, new_freqs, midpoints)\n",
    "display_q3(data, new_freqs, midpoints)"
   ]
  }
 ],
 "metadata": {
  "kernelspec": {
   "display_name": ".venv",
   "language": "python",
   "name": "python3"
  },
  "language_info": {
   "codemirror_mode": {
    "name": "ipython",
    "version": 3
   },
   "file_extension": ".py",
   "mimetype": "text/x-python",
   "name": "python",
   "nbconvert_exporter": "python",
   "pygments_lexer": "ipython3",
   "version": "3.10.6"
  }
 },
 "nbformat": 4,
 "nbformat_minor": 2
}
