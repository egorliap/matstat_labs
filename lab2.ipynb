{
 "cells": [
  {
   "cell_type": "markdown",
   "metadata": {},
   "source": [
    "## Лабораторная работа по мат. статистике №2"
   ]
  },
  {
   "cell_type": "code",
   "execution_count": null,
   "metadata": {},
   "outputs": [],
   "source": [
    "import numpy as np\n",
    "import matplotlib.pyplot as plt\n",
    "from scipy import stats"
   ]
  },
  {
   "cell_type": "markdown",
   "metadata": {},
   "source": [
    "### 1. Построение доверительных интервалов для среднего и дисперсии"
   ]
  },
  {
   "cell_type": "markdown",
   "metadata": {},
   "source": [
    "#### 1.1. Нормальное распеределение N(5, 10), n=500, α = 0.05"
   ]
  },
  {
   "cell_type": "markdown",
   "metadata": {},
   "source": [
    "Генерирую выборку, строю ее график"
   ]
  },
  {
   "cell_type": "code",
   "execution_count": null,
   "metadata": {},
   "outputs": [],
   "source": [
    "n = 500\n",
    "m = 5\n",
    "v = np.sqrt(10)\n",
    "alpha = 0.05\n",
    "\n",
    "selection = np.random.normal(m, v, n)\n",
    "\n",
    "count, bins, ignored = plt.hist(selection, 250, density=True)\n",
    "\n",
    "plt.plot(\n",
    "    bins,\n",
    "    1 / (v * np.sqrt(2 * np.pi)) * np.exp(-((bins - m) ** 2) / (2 * v**2)),\n",
    "    linewidth=2,\n",
    "    color=\"r\",\n",
    ")\n",
    "plt.axvline(x=m, ymax=max(selection), color=\"black\")\n",
    "\n",
    "plt.show()"
   ]
  },
  {
   "cell_type": "markdown",
   "metadata": {},
   "source": [
    "Доверительный интервал для среднего"
   ]
  },
  {
   "cell_type": "code",
   "execution_count": null,
   "metadata": {},
   "outputs": [],
   "source": [
    "def get_mean_confidence_interval(sel, var, count, n, alpha):\n",
    "    l_m = sum(np.prod([sel, count], 0))/n - np.percentile(\n",
    "        sel, 100 * (1 - alpha) / 2\n",
    "    ) * var / np.sqrt(len(sel))\n",
    "\n",
    "    r_m = sum(np.prod([sel, count], 0))/n + np.percentile(\n",
    "        sel, 100 * (1 - alpha) / 2\n",
    "    ) * var / np.sqrt(len(sel))\n",
    "\n",
    "    return l_m, r_m\n",
    "\n",
    "\n",
    "print(get_mean_confidence_interval(selection, v, [1 for i in range(n)], n, alpha))"
   ]
  },
  {
   "cell_type": "markdown",
   "metadata": {},
   "source": [
    "Доверительный интервал для дисперсии"
   ]
  },
  {
   "cell_type": "code",
   "execution_count": null,
   "metadata": {},
   "outputs": [],
   "source": [
    "def get_var_confidence_interval(sel, counts, n, alpha=0.05):\n",
    "    k = len(sel)\n",
    "    std = np.prod([np.square(sel-np.mean(sel)), counts], 0)/n\n",
    "    s = k*sum(std)/(k-1) # исправленная дисперсия\n",
    "    \n",
    "    chi2_lower = stats.chi2.ppf(1 - alpha/2, df=k-1)\n",
    "    chi2_upper = stats.chi2.ppf(alpha/2, df=k-1)  \n",
    "\n",
    "    l_v = (k-1)*s/chi2_lower\n",
    "    r_v = (k-1)*s/chi2_upper\n",
    "    return l_v, r_v\n",
    "\n",
    "print(get_var_confidence_interval(selection, [1 for i in range(n)], n, alpha))"
   ]
  },
  {
   "cell_type": "markdown",
   "metadata": {},
   "source": [
    "#### 1.2 Группирование выборки, сгенерированной на предыдущем шаге"
   ]
  },
  {
   "cell_type": "code",
   "execution_count": null,
   "metadata": {},
   "outputs": [],
   "source": [
    "k = int(np.log2(n)) + 1\n",
    "count, bins, ignored = plt.hist(selection, k, density=False)\n",
    "middle_points = [(bins[i] + bins[i + 1]) / 2 for i in range(len(bins) - 1)]\n",
    "print(get_mean_confidence_interval(middle_points, v, count, n, alpha))\n",
    "print(get_var_confidence_interval(middle_points, count, n, alpha))"
   ]
  },
  {
   "cell_type": "markdown",
   "metadata": {},
   "source": [
    "#### 1.3 Биномиальное распеределение B(0.3, 500), n=500, α = 0.05"
   ]
  },
  {
   "cell_type": "code",
   "execution_count": null,
   "metadata": {},
   "outputs": [],
   "source": [
    "n = 500\n",
    "n_e = 500\n",
    "p = 0.3\n",
    "alpha = 0.05\n",
    "\n",
    "selection = np.random.binomial(n_e, p, n)\n",
    "\n",
    "count, bins, ignored = plt.hist(selection, 250, density=True)\n",
    "mean_p = np.mean(selection)\n",
    "\n",
    "l_m = mean_p - np.percentile(selection, (1-alpha)/2)*np.sqrt(mean_p/n_e*(1-mean_p/n_e)/n_e)\n",
    "r_m = mean_p + np.percentile(selection, (alpha)/2)*np.sqrt(mean_p/n_e*(1-mean_p/n_e)/n_e)\n",
    "\n",
    "print(l_m/n_e, r_m/n_e)\n"
   ]
  },
  {
   "cell_type": "markdown",
   "metadata": {},
   "source": [
    "#### 1.3' Биномиальное распеределение B(0.3, 50), n=500, α = 0.05"
   ]
  },
  {
   "cell_type": "code",
   "execution_count": null,
   "metadata": {},
   "outputs": [],
   "source": [
    "n = 500\n",
    "n_e = 50\n",
    "p = 0.3\n",
    "alpha = 0.05\n",
    "\n",
    "selection = np.random.binomial(n_e, p, n)\n",
    "count, bins, ignored = plt.hist(selection, 250, density=True)\n",
    "mean_p = np.mean(selection)\n",
    "\n",
    "l_m = mean_p - np.percentile(selection, (1-alpha)/2)*np.sqrt(mean_p/n_e*(1-mean_p/n_e)/n_e)\n",
    "r_m = mean_p + np.percentile(selection, (alpha)/2)*np.sqrt(mean_p/n_e*(1-mean_p/n_e)/n_e)\n",
    "\n",
    "print(l_m/n_e, r_m/n_e)"
   ]
  },
  {
   "cell_type": "markdown",
   "metadata": {},
   "source": [
    "#### 1.4 Распеределение Пуассона P(2), n=500, α = 0.05"
   ]
  },
  {
   "cell_type": "code",
   "execution_count": null,
   "metadata": {},
   "outputs": [],
   "source": [
    "n = 500\n",
    "lamb = 2\n",
    "alpha = 0.05\n",
    "\n",
    "selection = np.random.poisson(lamb, n)\n",
    "count, bins, ignored = plt.hist(selection, 250, density=True)\n",
    "\n",
    "mean_p = np.mean(selection)\n",
    "\n",
    "chi2_lower = stats.chi2.ppf(alpha/2, df=2*sum(selection))\n",
    "chi2_upper = stats.chi2.ppf(1 - alpha/2, df=2*(sum(selection)+1))  \n",
    "\n",
    "l_m = chi2_lower/(2*n)\n",
    "r_m = chi2_upper/(2*n)\n",
    "\n",
    "print(l_m, r_m)"
   ]
  },
  {
   "cell_type": "markdown",
   "metadata": {},
   "source": [
    "#### 1.5 Экспоненциальное распеределение E(4), n=500, α = 0.05"
   ]
  },
  {
   "cell_type": "code",
   "execution_count": null,
   "metadata": {},
   "outputs": [],
   "source": [
    "n = 500\n",
    "lamb = 4\n",
    "alpha = 0.05\n",
    "\n",
    "selection = np.random.exponential(1/lamb, n)\n",
    "count, bins, ignored = plt.hist(selection, 250, density=True)\n",
    "\n",
    "mean_p = np.mean(selection)\n",
    "\n",
    "chi2_lower = stats.chi2.ppf(alpha/2, df=2*n)\n",
    "chi2_upper = stats.chi2.ppf(1 - alpha/2, df=2*n)  \n",
    "\n",
    "l_m = 2*sum(selection)/chi2_upper\n",
    "r_m = 2*sum(selection)/chi2_lower\n",
    "\n",
    "print(l_m, r_m)\n"
   ]
  },
  {
   "cell_type": "markdown",
   "metadata": {},
   "source": [
    "### 2. Ядерные оценки"
   ]
  }
 ],
 "metadata": {
  "language_info": {
   "name": "python"
  }
 },
 "nbformat": 4,
 "nbformat_minor": 2
}
