{
 "cells": [
  {
   "cell_type": "markdown",
   "metadata": {},
   "source": [
    "## Лабораторная работа по мат. статистике №2\n"
   ]
  },
  {
   "cell_type": "code",
   "execution_count": null,
   "metadata": {},
   "outputs": [],
   "source": [
    "import numpy as np\n",
    "import matplotlib.pyplot as plt\n",
    "from scipy import stats\n",
    "from IPython.display import display, Latex\n",
    "\n",
    "def pretty_print_confidence_interval(value_latex: str, left_bound: float, right_bound: float, confidence_prob: float):\n",
    "    display(Latex(f\"$P({left_bound} \\leq {value_latex} \\leq {right_bound}) = {confidence_prob}$\"))"
   ]
  },
  {
   "cell_type": "markdown",
   "metadata": {},
   "source": [
    "### 1. Построение доверительных интервалов для среднего и дисперсии\n"
   ]
  },
  {
   "cell_type": "markdown",
   "metadata": {},
   "source": [
    "#### 1.1. Нормальное распеределение N(5, 10), n=500, α = 0.05\n"
   ]
  },
  {
   "cell_type": "markdown",
   "metadata": {},
   "source": [
    "Генерирую выборку, строю ее график\n"
   ]
  },
  {
   "cell_type": "code",
   "execution_count": null,
   "metadata": {},
   "outputs": [],
   "source": [
    "n = 500\n",
    "m = 5\n",
    "v = np.sqrt(10)\n",
    "alpha = 0.05\n",
    "\n",
    "selection = np.random.normal(m, v, n)\n",
    "\n",
    "count, bins, ignored = plt.hist(selection, 250, density=True)\n",
    "\n",
    "plt.plot(\n",
    "    bins,\n",
    "    1 / (v * np.sqrt(2 * np.pi)) * np.exp(-((bins - m) ** 2) / (2 * v**2)),\n",
    "    linewidth=2,\n",
    "    color=\"r\",\n",
    ")\n",
    "plt.axvline(x=m, ymax=max(selection), color=\"black\")\n",
    "\n",
    "plt.show()"
   ]
  },
  {
   "cell_type": "markdown",
   "metadata": {},
   "source": [
    "Доверительный интервал для среднего\n"
   ]
  },
  {
   "cell_type": "code",
   "execution_count": null,
   "metadata": {},
   "outputs": [],
   "source": [
    "def get_mean_confidence_interval(sel, var, count, n, alpha):\n",
    "    l_m = sum(np.prod([sel, count], 0)) / n - np.percentile(\n",
    "        sel, 100 * (1 - alpha) / 2\n",
    "    ) * var / np.sqrt(len(sel))\n",
    "\n",
    "    r_m = sum(np.prod([sel, count], 0)) / n + np.percentile(\n",
    "        sel, 100 * (1 - alpha) / 2\n",
    "    ) * var / np.sqrt(len(sel))\n",
    "\n",
    "    return l_m, r_m\n",
    "\n",
    "l_m, r_m = get_mean_confidence_interval(selection, v, [1 for i in range(n)], n, alpha)\n",
    "pretty_print_confidence_interval(r\"\\mu\", l_m, r_m, 1-alpha)"
   ]
  },
  {
   "cell_type": "markdown",
   "metadata": {},
   "source": [
    "Доверительный интервал для дисперсии\n"
   ]
  },
  {
   "cell_type": "code",
   "execution_count": null,
   "metadata": {},
   "outputs": [],
   "source": [
    "def get_var_confidence_interval(sel, counts, n, alpha=0.05):\n",
    "    k = len(sel)\n",
    "    std = np.prod([np.square(sel - np.mean(sel)), counts], 0) / n\n",
    "    s = k * sum(std) / (k - 1)  # исправленная дисперсия\n",
    "\n",
    "    chi2_lower = stats.chi2.ppf(1 - alpha / 2, df=k - 1)\n",
    "    chi2_upper = stats.chi2.ppf(alpha / 2, df=k - 1)\n",
    "\n",
    "    l_v = (k - 1) * s / chi2_lower\n",
    "    r_v = (k - 1) * s / chi2_upper\n",
    "    return l_v, r_v\n",
    "\n",
    "\n",
    "l_v, r_v = get_var_confidence_interval(selection, [1 for i in range(n)], n, alpha)\n",
    "pretty_print_confidence_interval(r\"\\sigma^2\", l_v, r_v, 1-2*alpha)"
   ]
  },
  {
   "cell_type": "markdown",
   "metadata": {},
   "source": [
    "#### 1.2 Группирование выборки, сгенерированной на предыдущем шаге\n"
   ]
  },
  {
   "cell_type": "code",
   "execution_count": null,
   "metadata": {},
   "outputs": [],
   "source": [
    "k = int(np.log2(n)) + 1\n",
    "count, bins, ignored = plt.hist(selection, k, density=False)\n",
    "middle_points = [(bins[i] + bins[i + 1]) / 2 for i in range(len(bins) - 1)]\n",
    "\n",
    "l_m, r_m = get_mean_confidence_interval(middle_points, v, count, n, alpha)\n",
    "pretty_print_confidence_interval(r\"\\mu\", l_m, r_m, 1-alpha)\n",
    "\n",
    "l_v, r_v = get_var_confidence_interval(middle_points, count, n, alpha)\n",
    "pretty_print_confidence_interval(r\"\\sigma^2\", l_v, r_v, 1-2*alpha)"
   ]
  },
  {
   "cell_type": "markdown",
   "metadata": {},
   "source": [
    "#### 1.3 Биномиальное распеределение B(0.3, 500), n=500, α = 0.05\n"
   ]
  },
  {
   "cell_type": "code",
   "execution_count": null,
   "metadata": {},
   "outputs": [],
   "source": [
    "n = 500\n",
    "n_e = 500\n",
    "p = 0.3\n",
    "alpha = 0.05\n",
    "\n",
    "selection = np.random.binomial(n_e, p, n)\n",
    "\n",
    "count, bins, ignored = plt.hist(selection, 250, density=True)\n",
    "\n",
    "p_est = np.mean(selection)/n_e\n",
    "t_alph = stats.norm.ppf( 1 - alpha / 2)\n",
    "\n",
    "\n",
    "l_m = p_est - t_alph*np.sqrt(p_est*(1 - p_est)/n_e)\n",
    "r_m = p_est + t_alph*np.sqrt(p_est*(1 - p_est)/n_e)\n",
    "\n",
    "pretty_print_confidence_interval(r\"p\", l_m, r_m, 1-alpha)"
   ]
  },
  {
   "cell_type": "markdown",
   "metadata": {},
   "source": [
    "#### 1.3' Биномиальное распеределение B(0.3, 50), n=500, α = 0.05\n"
   ]
  },
  {
   "cell_type": "code",
   "execution_count": null,
   "metadata": {},
   "outputs": [],
   "source": [
    "n_e = 50\n",
    "\n",
    "selection = np.random.binomial(n_e, p, n)\n",
    "count, bins, ignored = plt.hist(selection, 250, density=True)\n",
    "\n",
    "p_est = np.mean(selection)/n_e\n",
    "t_alph = stats.norm.ppf(1-alpha / 2)\n",
    "\n",
    "\n",
    "l_m = n_e/(n_e + t_alph**2) * (p_est + t_alph**2/(2*n_e) - t_alph * np.sqrt(p_est*(1 - p_est)/n_e + t_alph**2/(2*n_e)))\n",
    "r_m = n_e/(n_e + t_alph**2) * (p_est + t_alph**2/(2*n_e) + t_alph * np.sqrt(p_est*(1 - p_est)/n_e + t_alph**2/(2*n_e)))\n",
    "\n",
    "pretty_print_confidence_interval(r\"p\", l_m, r_m, 1-alpha)"
   ]
  },
  {
   "cell_type": "markdown",
   "metadata": {},
   "source": [
    "#### 1.4 Распеределение Пуассона P(2), n=500, α = 0.05\n"
   ]
  },
  {
   "cell_type": "code",
   "execution_count": null,
   "metadata": {},
   "outputs": [],
   "source": [
    "n = 500\n",
    "lamb = 2\n",
    "alpha = 0.05\n",
    "\n",
    "selection = np.random.poisson(lamb, n)\n",
    "count, bins, ignored = plt.hist(selection, 250, density=True)\n",
    "\n",
    "mean_p = np.mean(selection)\n",
    "\n",
    "t_alph = stats.norm.ppf(1 - alpha / 2)\n",
    "\n",
    "l_m = mean_p - t_alph*np.sqrt(mean_p/n)\n",
    "r_m = mean_p + t_alph*np.sqrt(mean_p/n)\n",
    "\n",
    "pretty_print_confidence_interval(r\"\\lambda\", l_m, r_m, 1-alpha)"
   ]
  },
  {
   "cell_type": "markdown",
   "metadata": {},
   "source": [
    "#### 1.5 Экспоненциальное распеределение E(4), n=500, α = 0.05\n"
   ]
  },
  {
   "cell_type": "code",
   "execution_count": null,
   "metadata": {},
   "outputs": [],
   "source": [
    "n = 500\n",
    "lamb = 4\n",
    "alpha = 0.05\n",
    "\n",
    "selection = np.random.exponential(lamb, n)\n",
    "count, bins, ignored = plt.hist(selection, 250, density=True)\n",
    "\n",
    "mean_p = np.mean(selection)\n",
    "\n",
    "chi2_lower = stats.chi2.ppf(alpha / 2, df=2 * n)\n",
    "chi2_upper = stats.chi2.ppf(1 - alpha / 2, df=2 * n)\n",
    "\n",
    "l_m = 2 * sum(selection) / chi2_upper\n",
    "r_m = 2 * sum(selection) / chi2_lower\n",
    "\n",
    "pretty_print_confidence_interval(r\"\\lambda\", l_m, r_m, 1-alpha)"
   ]
  },
  {
   "cell_type": "markdown",
   "metadata": {},
   "source": [
    "### 2. Ядерные оценки\n"
   ]
  },
  {
   "cell_type": "code",
   "execution_count": null,
   "metadata": {},
   "outputs": [],
   "source": [
    "def get_pdf_ker(\n",
    "    kernel_function,\n",
    "    selection: np.ndarray,\n",
    "    h_func=lambda sel: 1.05 * np.std(sel) / np.pow(len(sel), 1 / 5),\n",
    "):\n",
    "    h = h_func(selection)\n",
    "\n",
    "    def pdf(x: np.ndarray) -> np.ndarray:\n",
    "        res = (1 / (len(selection) * h)) * sum(\n",
    "            [kernel_function((x - selection[i]) / h) for i in range(len(selection))]\n",
    "        )\n",
    "        return res * (res > 0)\n",
    "\n",
    "    return pdf"
   ]
  },
  {
   "cell_type": "markdown",
   "metadata": {},
   "source": [
    "### 2.1 Гауссово ядро для оценки плотности распеределения случайной выборки ~ N(5, 10)\n"
   ]
  },
  {
   "cell_type": "code",
   "execution_count": null,
   "metadata": {},
   "outputs": [],
   "source": [
    "n = 500\n",
    "m = 5\n",
    "v = np.sqrt(10)\n",
    "\n",
    "selection = np.random.normal(m, v, n)\n",
    "\n",
    "plt.hist(selection, 30, density=True)\n",
    "\n",
    "x = np.linspace(np.min(selection) - 1, np.max(selection) + 1, 1000)\n",
    "\n",
    "f_est_gauss = get_pdf_ker(\n",
    "    kernel_function=lambda x: 1 / np.sqrt(2 * np.pi) * np.exp((-1) * x**2 / 2),\n",
    "    selection=selection,\n",
    ")\n",
    "pdf_gauss = f_est_gauss(x)\n",
    "\n",
    "f_est_triag = get_pdf_ker(\n",
    "    kernel_function=lambda x: 1 - np.abs(np.where((x <= 1) & (x >= -1), x, 1)),\n",
    "    selection=selection,\n",
    "    h_func=lambda sel: 2,\n",
    ")\n",
    "pdf_triag = f_est_triag(x)\n",
    "\n",
    "f_est_parabolic = get_pdf_ker(\n",
    "    kernel_function=lambda x: 3 / 4 * (1 - (np.where((x <= 1) & (x >= -1), x, 1)) ** 2),\n",
    "    selection=selection,\n",
    "    h_func=lambda sel: 2,\n",
    ")\n",
    "pdf_parabolic = f_est_parabolic(x)\n",
    "\n",
    "plt.plot(\n",
    "    x,\n",
    "    pdf_gauss,\n",
    "    color=\"red\",\n",
    "    linewidth=2,\n",
    "    label=\"Gauss\",\n",
    ")\n",
    "# plt.plot(\n",
    "#     x,\n",
    "#     pdf_triag,\n",
    "#     color=\"violet\",\n",
    "#     linewidth=2,\n",
    "#     label=\"Triangle\",\n",
    "# )\n",
    "# plt.plot(\n",
    "#     x,\n",
    "#     pdf_parabolic,\n",
    "#     color=\"black\",\n",
    "#     linewidth=2,\n",
    "#     label=\"Parabolic\",\n",
    "# )\n",
    "plt.title(\"Ядерная оценка плотности распределения\")\n",
    "plt.xlabel(\"Значения\")\n",
    "plt.ylabel(\"Плотность\")\n",
    "plt.legend()\n",
    "plt.grid(True)\n",
    "plt.show()"
   ]
  },
  {
   "cell_type": "markdown",
   "metadata": {},
   "source": [
    "### 2.2 Гауссово ядро для оценки плотности распеределения случайной выборки ~ U[1,2]\n"
   ]
  },
  {
   "cell_type": "code",
   "execution_count": null,
   "metadata": {},
   "outputs": [],
   "source": [
    "n = 500\n",
    "a = 1\n",
    "b = 2\n",
    "\n",
    "selection = np.random.uniform(a, b, n)\n",
    "\n",
    "plt.hist(selection, 30, density=True)\n",
    "\n",
    "f_est_gauss = get_pdf_ker(\n",
    "    kernel_function=lambda x: 1 / np.sqrt(2 * np.pi) * np.exp((-1) * x**2 / 2),\n",
    "    selection=selection,\n",
    ")\n",
    "x = np.linspace(np.min(selection) - 1, np.max(selection) + 1, 1000)\n",
    "pdf_gauss = f_est_gauss(x)\n",
    "plt.plot(\n",
    "    x,\n",
    "    pdf_gauss,\n",
    "    color=\"red\",\n",
    "    linewidth=2,\n",
    "    label=\"Ядерная оценка (KDE)\",\n",
    ")\n",
    "\n",
    "plt.show()"
   ]
  }
 ],
 "metadata": {
  "language_info": {
   "name": "python"
  }
 },
 "nbformat": 4,
 "nbformat_minor": 2
}
