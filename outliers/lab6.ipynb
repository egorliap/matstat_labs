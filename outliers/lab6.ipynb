{
 "cells": [
  {
   "cell_type": "markdown",
   "id": "12f7db88",
   "metadata": {},
   "source": [
    "# Лабораторная работа №6\n"
   ]
  },
  {
   "cell_type": "code",
   "execution_count": null,
   "id": "b981544e",
   "metadata": {},
   "outputs": [],
   "source": [
    "import numpy as np\n",
    "from scipy import stats\n",
    "from IPython.display import display, Latex\n",
    "from sklearn.linear_model import HuberRegressor\n",
    "\n",
    "# Установка seed для воспроизводимости\n",
    "np.random.seed(42)\n",
    "\n",
    "n = 500\n",
    "\n",
    "alpha = 0.05"
   ]
  },
  {
   "cell_type": "markdown",
   "id": "87abaeda",
   "metadata": {},
   "source": [
    "## 1. Критерий Хсу\n"
   ]
  },
  {
   "cell_type": "markdown",
   "id": "597ff5f1",
   "metadata": {},
   "source": [
    "### 1.1. $X_n \\in N(5, 10)$\n"
   ]
  },
  {
   "cell_type": "code",
   "execution_count": null,
   "id": "a38f3592",
   "metadata": {},
   "outputs": [],
   "source": [
    "x = np.random.normal(5, 10, n)\n",
    "H = (np.sum((np.arange(n)) * np.pow(x - np.median(x), 2))) / (\n",
    "    (n - 1) * np.sum(np.pow(x - np.median(x), 2))\n",
    ")\n",
    "DH = (n + 1) / (6 * (n - 1) * (n + 2))\n",
    "H_standard = (H - 0.5) / (np.sqrt(DH))\n",
    "q = stats.t.ppf(1 - alpha / 2, df=n - 1)\n",
    "\n",
    "display(Latex(f\"$H_{{standard}}={H_standard}$\"))\n",
    "\n",
    "if np.abs(H_standard) < q:\n",
    "    display(Latex(\"$H_0$ accepted\"))\n",
    "else:\n",
    "    display(Latex(\"$H_0$ declined\"))"
   ]
  },
  {
   "cell_type": "markdown",
   "id": "c56a2e9d",
   "metadata": {},
   "source": [
    "### 1.2. a) $X_{\\frac{n}{2}} \\in N(5, 10)$ + $X_{\\frac{n}{2}} \\in N(5, 11)$\n"
   ]
  },
  {
   "cell_type": "code",
   "execution_count": null,
   "id": "a8493e42",
   "metadata": {},
   "outputs": [],
   "source": [
    "x = np.hstack([np.random.normal(5, 10, n // 2), np.random.normal(5, 11, n // 2)])\n",
    "\n",
    "H = (np.sum((np.arange(n)) * np.pow(x - np.median(x), 2))) / (\n",
    "    (n - 1) * np.sum(np.pow(x - np.median(x), 2))\n",
    ")\n",
    "DH = (n + 1) / (6 * (n - 1) * (n + 2))\n",
    "H_standard = (H - 0.5) / (np.sqrt(DH))\n",
    "q = stats.t.ppf(1 - alpha / 2, df=n - 1)\n",
    "\n",
    "display(Latex(f\"$H_{{standard}}={H_standard}$\"))\n",
    "\n",
    "if np.abs(H_standard) < q:\n",
    "    display(Latex(\"$H_0$ accepted\"))\n",
    "else:\n",
    "    display(Latex(\"$H_0$ declined\"))"
   ]
  },
  {
   "cell_type": "markdown",
   "id": "50d27229",
   "metadata": {},
   "source": [
    "### 1.2. б) $X_{\\frac{n}{2}} \\in N(5, 10)$ + $X_{\\frac{n}{2}} \\in N(5, 1)$\n"
   ]
  },
  {
   "cell_type": "code",
   "execution_count": null,
   "id": "42e3d28e",
   "metadata": {},
   "outputs": [],
   "source": [
    "x = np.hstack([np.random.normal(5, 10, n // 2), np.random.normal(5, 1, n // 2)])\n",
    "\n",
    "H = (np.sum((np.arange(n)) * np.pow(x - np.median(x), 2))) / (\n",
    "    (n - 1) * np.sum(np.pow(x - np.median(x), 2))\n",
    ")\n",
    "DH = (n + 1) / (6 * (n - 1) * (n + 2))\n",
    "H_standard = (H - 0.5) / (np.sqrt(DH))\n",
    "q = stats.t.ppf(1 - alpha / 2, df=n - 1)\n",
    "\n",
    "display(Latex(f\"$H_{{standard}}={H_standard}$\"))\n",
    "\n",
    "if np.abs(H_standard) < q:\n",
    "    display(Latex(\"$H_0$ accepted\"))\n",
    "else:\n",
    "    display(Latex(\"$H_0$ declined\"))"
   ]
  },
  {
   "cell_type": "markdown",
   "id": "b6771248",
   "metadata": {},
   "source": [
    "## 2. Выбросы\n"
   ]
  },
  {
   "cell_type": "markdown",
   "id": "e813d59d",
   "metadata": {},
   "source": [
    "### 2.1. Три сигмы\n"
   ]
  },
  {
   "cell_type": "code",
   "execution_count": null,
   "id": "3fcf2429",
   "metadata": {},
   "outputs": [],
   "source": [
    "x = np.hstack([np.random.normal(0, 1, 195), [-3, -4, 2.99, 3.3, 5]])\n",
    "\n",
    "s = x.std()\n",
    "\n",
    "for i in range(len(x)):\n",
    "    if not (-3 * s <= x[i] <= 3 * s):\n",
    "        display(Latex(f\"$i = {i+1}$, $x_i = {x[i]}$\"))"
   ]
  },
  {
   "cell_type": "markdown",
   "id": "d9334357",
   "metadata": {},
   "source": [
    "### 2.2. Боксплот Тьюки\n"
   ]
  },
  {
   "cell_type": "code",
   "execution_count": null,
   "id": "e0bf6647",
   "metadata": {},
   "outputs": [],
   "source": [
    "x = np.hstack([np.random.normal(0, 1, 195), [-3, -4, 2.99, 3.3, 5]])\n",
    "\n",
    "lq = np.quantile(x, 0.25)\n",
    "uq = np.quantile(x, 0.75)\n",
    "iq = uq - lq\n",
    "xu = uq + 3/2 * iq\n",
    "xl = lq - 3/2 * iq\n",
    "\n",
    "for i in range(len(x)):\n",
    "    if not (xl <= x[i] <= xu):\n",
    "        display(Latex(f\"$i = {i+1}$, $x_i = {x[i]}$\"))"
   ]
  },
  {
   "cell_type": "markdown",
   "id": "2392b21e",
   "metadata": {},
   "source": [
    "## 3. Сравнение робастных и неробастных оценок"
   ]
  },
  {
   "cell_type": "code",
   "execution_count": null,
   "id": "2e74e786",
   "metadata": {},
   "outputs": [],
   "source": [
    "def huber_estimator(x, delta=1.0, tol=1e-6, max_iter=100):\n",
    "    theta = np.median(x)\n",
    "    \n",
    "    for _ in range(max_iter):\n",
    "        # Вычисление остатков\n",
    "        residuals = x - theta\n",
    "        \n",
    "        # Весовая функция Хубера\n",
    "        weights = np.where(\n",
    "            np.abs(residuals) <= delta,\n",
    "            1.0,\n",
    "            delta / np.abs(residuals)\n",
    "        )\n",
    "        \n",
    "        # Обновление оценки как взвешенного среднего\n",
    "        theta_new = np.sum(weights * x) / np.sum(weights)\n",
    "        \n",
    "        # Проверка на сходимость\n",
    "        if np.abs(theta_new - theta) < tol:\n",
    "            break\n",
    "            \n",
    "        theta = theta_new\n",
    "    \n",
    "    return theta\n"
   ]
  },
  {
   "cell_type": "code",
   "execution_count": null,
   "id": "15c236cb",
   "metadata": {},
   "outputs": [],
   "source": [
    "def compare_estimators(data):\n",
    "    mean = np.mean(data)\n",
    "    median = np.median(data)\n",
    "    huber = huber_estimator(data, delta=5)\n",
    "    return {\"Среднее\": mean, \"Медиана\": median, \"Huber\": huber}\n",
    "\n"
   ]
  },
  {
   "cell_type": "markdown",
   "id": "40988464",
   "metadata": {},
   "source": [
    "### 3.1. $X_n \\in N(0, 1)$"
   ]
  },
  {
   "cell_type": "code",
   "execution_count": null,
   "id": "e39144ab",
   "metadata": {},
   "outputs": [],
   "source": [
    "x = np.random.normal(0, 1, n)\n",
    "display(Latex(\"$\" + \"\\\\newline \".join([f\"{c[0]}: {c[1]}\" for c in compare_estimators(x).items()]) + \"$\"))"
   ]
  },
  {
   "cell_type": "markdown",
   "id": "93010afe",
   "metadata": {},
   "source": [
    "### 3.2. $X_n \\in Cauchy$"
   ]
  },
  {
   "cell_type": "code",
   "execution_count": null,
   "id": "74ebbb4e",
   "metadata": {},
   "outputs": [],
   "source": [
    "x = np.random.standard_cauchy(n)\n",
    "display(Latex(\"$\" + \"\\\\newline \".join([f\"{c[0]}: {c[1]}\" for c in compare_estimators(x).items()]) + \"$\"))\n"
   ]
  },
  {
   "cell_type": "markdown",
   "id": "bf534455",
   "metadata": {},
   "source": [
    "### 3.3. $X_n \\in N(0, 1) + 0.1\\cdot Cauchy$"
   ]
  },
  {
   "cell_type": "code",
   "execution_count": null,
   "id": "153d3a66",
   "metadata": {},
   "outputs": [],
   "source": [
    "x = 0.1*np.random.standard_cauchy(n) + np.random.normal(0, 1, n)\n",
    "display(Latex(\"$\" + \"\\\\newline \".join([f\"{c[0]}: {c[1]}\" for c in compare_estimators(x).items()]) + \"$\"))\n"
   ]
  }
 ],
 "metadata": {
  "language_info": {
   "name": "python"
  }
 },
 "nbformat": 4,
 "nbformat_minor": 5
}
