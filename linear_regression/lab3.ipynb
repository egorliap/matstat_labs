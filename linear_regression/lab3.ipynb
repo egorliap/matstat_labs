{
 "cells": [
  {
   "cell_type": "markdown",
   "metadata": {},
   "source": [
    "## Лабораторная работа по мат. статистике №3\n",
    "\n",
    "### Линейная регрессия\n"
   ]
  },
  {
   "cell_type": "code",
   "execution_count": null,
   "metadata": {},
   "outputs": [],
   "source": [
    "import numpy as np\n",
    "import matplotlib.pyplot as plt\n",
    "from scipy import stats\n",
    "from IPython.display import display, Latex\n",
    "\n",
    "n = 500  # amount of samples\n",
    "\n",
    "\n",
    "def pretty_print_coefficients(*coefs):\n",
    "    tex = \"\\\\newline\".join([f\"\\\\beta_{i} = {coefs[i]}\" for i in range(len(coefs))])\n",
    "    tex += \"\\\\newline y \\\\approx \" + \"+\".join(\n",
    "        [\n",
    "            str(coefs[i]) + (f\"\\\\cdot x_{i}\" if i > 1 else \"\\\\cdot x\" if i == 1 else \"\")\n",
    "            for i in range(len(coefs))\n",
    "        ]\n",
    "    )\n",
    "    display(Latex(f\"${tex}$\"))\n",
    "\n",
    "\n",
    "def plot_regr(title, x, y, *coefs):\n",
    "    plt.scatter(x, y, s=1)\n",
    "    ax = plt.gca()\n",
    "    xlim = ax.get_xlim()\n",
    "    ylim = ax.get_ylim()\n",
    "    xx = np.linspace(xlim[0], xlim[1], 30)\n",
    "    yy = np.sum([coefs[i] * xx**i for i in range(len(coefs))], axis=0)\n",
    "    label = (\n",
    "        \"$ y =\"\n",
    "        + \"+\".join(\n",
    "            [\n",
    "                f\"\\\\beta_{i}\" + (f\"x^{i}\" if i > 1 else \"x\" if i == 1 else \"\")\n",
    "                for i in range(len(coefs))\n",
    "            ]\n",
    "        )\n",
    "        + \"$\"\n",
    "    )\n",
    "    plt.plot(xx, yy, label=label, color=\"r\")\n",
    "    plt.title(title)\n",
    "    plt.xlabel(\"x\")\n",
    "    plt.ylabel(\"y\", rotation=0)\n",
    "    plt.legend()\n",
    "\n",
    "    plt.show()"
   ]
  },
  {
   "cell_type": "markdown",
   "metadata": {},
   "source": [
    "### 1. Линейная регрессия\n"
   ]
  },
  {
   "cell_type": "markdown",
   "metadata": {},
   "source": [
    "Строим случайную выборку $ x \\in N(1,5) $\n"
   ]
  },
  {
   "cell_type": "code",
   "execution_count": null,
   "metadata": {},
   "outputs": [],
   "source": [
    "x = np.random.normal(1, np.sqrt(5), n)\n",
    "y_base = 3 * x - 4\n",
    "\n",
    "sx = sum((x - np.mean(x)) ** 2) / (n - 1)  # fixed variance"
   ]
  },
  {
   "cell_type": "markdown",
   "metadata": {},
   "source": [
    "#### 1.1. $ \\epsilon \\in N(0, 10) $"
   ]
  },
  {
   "cell_type": "code",
   "execution_count": null,
   "metadata": {},
   "outputs": [],
   "source": [
    "eps = np.random.normal(0, np.sqrt(10), n)\n",
    "y = y_base + eps"
   ]
  },
  {
   "cell_type": "markdown",
   "metadata": {},
   "source": [
    "Вычисление коэффициентов регрессии ($ \\beta_0, \\beta_1 $)\n"
   ]
  },
  {
   "cell_type": "code",
   "execution_count": null,
   "metadata": {},
   "outputs": [],
   "source": [
    "b1 = np.dot((x - np.mean(x)), (y - np.mean(y))) / ((n - 1) * sx)\n",
    "b0 = np.mean(y) - b1 * np.mean(x)\n",
    "pretty_print_coefficients(b0, b1)"
   ]
  },
  {
   "cell_type": "markdown",
   "metadata": {},
   "source": [
    "График\n"
   ]
  },
  {
   "cell_type": "code",
   "execution_count": null,
   "metadata": {},
   "outputs": [],
   "source": [
    "plot_regr(\"Линейная регрессия, $ \\epsilon \\in N(0, 10) $\", x, y, b0, b1)"
   ]
  },
  {
   "cell_type": "markdown",
   "metadata": {},
   "source": [
    "#### 1.2. $ \\epsilon \\in U(-15, 15) $"
   ]
  },
  {
   "cell_type": "code",
   "execution_count": null,
   "metadata": {},
   "outputs": [],
   "source": [
    "eps = np.random.uniform(15, -15, n)\n",
    "y = y_base + eps"
   ]
  },
  {
   "cell_type": "markdown",
   "metadata": {},
   "source": [
    "Вычисление коэффициентов регрессии ($ \\beta_0, \\beta_1 $)\n"
   ]
  },
  {
   "cell_type": "code",
   "execution_count": null,
   "metadata": {},
   "outputs": [],
   "source": [
    "b1 = np.dot((x - np.mean(x)), (y - np.mean(y))) / ((n - 1) * sx)\n",
    "b0 = np.mean(y) - b1 * np.mean(x)\n",
    "pretty_print_coefficients(b0, b1)"
   ]
  },
  {
   "cell_type": "markdown",
   "metadata": {},
   "source": [
    "График\n"
   ]
  },
  {
   "cell_type": "code",
   "execution_count": null,
   "metadata": {},
   "outputs": [],
   "source": [
    "plot_regr(\"Линейная регрессия, $ \\epsilon \\in U(-15, 15) $\", x, y, b0, b1)"
   ]
  },
  {
   "cell_type": "markdown",
   "metadata": {},
   "source": [
    "#### 1.3. $ \\epsilon = \\frac{\\sqrt{10}}{\\pi(\\epsilon^2 + 10)} $\n"
   ]
  },
  {
   "cell_type": "code",
   "execution_count": null,
   "metadata": {},
   "outputs": [],
   "source": [
    "eps = stats.cauchy(loc=0, scale=np.sqrt(10)).rvs(n)\n",
    "lower = np.percentile(eps, 2)\n",
    "upper = np.percentile(eps, 98)\n",
    "eps = np.clip(eps, lower, upper)\n",
    "y = y_base + eps"
   ]
  },
  {
   "cell_type": "code",
   "execution_count": null,
   "metadata": {},
   "outputs": [],
   "source": [
    "b1 = np.dot((x - np.mean(x)), (y - np.mean(y))) / ((n - 1) * sx)\n",
    "b0 = np.mean(y) - b1 * np.mean(x)\n",
    "pretty_print_coefficients(b0, b1)\n"
   ]
  },
  {
   "cell_type": "code",
   "execution_count": null,
   "metadata": {},
   "outputs": [],
   "source": [
    "plot_regr(\"Линейная регрессия, $ \\epsilon \\in K(0, 10) $\", x, y, b0, b1)"
   ]
  },
  {
   "cell_type": "markdown",
   "metadata": {},
   "source": [
    "### 2. Трехмерная линейная регрессия\n"
   ]
  },
  {
   "cell_type": "markdown",
   "metadata": {},
   "source": [
    "Строим случайную выборку $ x_1 \\in N(10,15), x_2 \\in N(3, 7) $\n"
   ]
  },
  {
   "cell_type": "code",
   "execution_count": null,
   "metadata": {},
   "outputs": [],
   "source": [
    "x1 = np.random.normal(10, np.sqrt(15), n)\n",
    "x2 = np.random.normal(3, np.sqrt(7), n)\n",
    "x = np.stack([np.ones(n), x1, x2], axis=0)\n",
    "\n",
    "\n",
    "y_base = 3 + 2 * x[1] - 4 * x[2]"
   ]
  },
  {
   "cell_type": "markdown",
   "metadata": {},
   "source": [
    "#### 2.1. $ \\epsilon \\in N(0, 10) $"
   ]
  },
  {
   "cell_type": "code",
   "execution_count": null,
   "metadata": {},
   "outputs": [],
   "source": [
    "eps = np.random.normal(0, np.sqrt(10), n)\n",
    "y = y_base + eps"
   ]
  },
  {
   "cell_type": "code",
   "execution_count": null,
   "metadata": {},
   "outputs": [],
   "source": [
    "coefficients = np.linalg.inv(x @ x.T) @ x @ y\n",
    "pretty_print_coefficients(*coefficients)"
   ]
  },
  {
   "cell_type": "markdown",
   "metadata": {},
   "source": [
    "#### 2.2. $ \\epsilon \\in U(-15, 15) $"
   ]
  },
  {
   "cell_type": "code",
   "execution_count": null,
   "metadata": {},
   "outputs": [],
   "source": [
    "eps = np.random.uniform(15, -15, n)\n",
    "y = y_base + eps"
   ]
  },
  {
   "cell_type": "code",
   "execution_count": null,
   "metadata": {},
   "outputs": [],
   "source": [
    "coefficients = np.linalg.inv(x @ x.T) @ x @ y\n",
    "pretty_print_coefficients(*coefficients)"
   ]
  },
  {
   "cell_type": "markdown",
   "metadata": {},
   "source": [
    "#### 2.3. $ \\epsilon = \\frac{\\sqrt{10}}{\\pi(\\epsilon^2 + 10)} $\n"
   ]
  },
  {
   "cell_type": "code",
   "execution_count": null,
   "metadata": {},
   "outputs": [],
   "source": [
    "eps = stats.cauchy(loc=0, scale=np.sqrt(10)).rvs(n)\n",
    "lower = np.percentile(eps, 2)\n",
    "upper = np.percentile(eps, 98)\n",
    "eps = np.clip(eps, lower, upper)\n",
    "y = y_base + eps"
   ]
  },
  {
   "cell_type": "code",
   "execution_count": null,
   "metadata": {},
   "outputs": [],
   "source": [
    "coefficients = np.linalg.inv(x @ x.T) @ x @ y\n",
    "pretty_print_coefficients(*coefficients)"
   ]
  }
 ],
 "metadata": {
  "language_info": {
   "name": "python"
  }
 },
 "nbformat": 4,
 "nbformat_minor": 2
}
